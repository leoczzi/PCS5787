{
  "nbformat": 4,
  "nbformat_minor": 0,
  "metadata": {
    "colab": {
      "name": "times-series-univariate2.ipynb",
      "provenance": [],
      "collapsed_sections": [
        "to8KLzNSeqhn",
        "zUwbBipNoIt1"
      ]
    },
    "kernelspec": {
      "name": "python3",
      "display_name": "Python 3"
    },
    "accelerator": "GPU"
  },
  "cells": [
    {
      "cell_type": "code",
      "metadata": {
        "colab": {
          "base_uri": "https://localhost:8080/"
        },
        "id": "r0eozMzMAk1h",
        "outputId": "b8c56008-c857-48d6-cc9e-cda6f4c43693"
      },
      "source": [
        "!pip install h5py  # Required to save models in HDF5 format"
      ],
      "execution_count": null,
      "outputs": [
        {
          "output_type": "stream",
          "text": [
            "Requirement already satisfied: h5py in /usr/local/lib/python3.6/dist-packages (2.10.0)\n",
            "Requirement already satisfied: six in /usr/local/lib/python3.6/dist-packages (from h5py) (1.15.0)\n",
            "Requirement already satisfied: numpy>=1.7 in /usr/local/lib/python3.6/dist-packages (from h5py) (1.18.5)\n"
          ],
          "name": "stdout"
        }
      ]
    },
    {
      "cell_type": "code",
      "metadata": {
        "colab": {
          "base_uri": "https://localhost:8080/"
        },
        "id": "CxqrOKqUcDlh",
        "outputId": "b9d65013-84d0-47b8-da31-c58c477f86ad"
      },
      "source": [
        "import pandas as pd\n",
        "import numpy as np\n",
        "import matplotlib.pyplot as plt\n",
        "from math import sqrt\n",
        "from statsmodels.tsa.arima_model import ARIMA\n",
        "from sklearn.metrics import mean_squared_error\n",
        "from tensorflow.keras.models import Sequential\n",
        "from tensorflow.keras.layers import LSTM\n",
        "from tensorflow.keras.layers import Dense\n",
        "from tensorflow.keras.layers import Bidirectional\n",
        "from keras.layers import TimeDistributed\n",
        "from sklearn.preprocessing import StandardScaler\n",
        "from sklearn.model_selection import train_test_split\n",
        "\n",
        "from sklearn.metrics import mean_absolute_error\n",
        "from sklearn.metrics import mean_squared_error\n",
        "from math import sqrt\n",
        "from sklearn.metrics import r2_score\n",
        "\n",
        "import warnings\n",
        "warnings.simplefilter(action='ignore', category=FutureWarning)"
      ],
      "execution_count": null,
      "outputs": [
        {
          "output_type": "stream",
          "text": [
            "/usr/local/lib/python3.6/dist-packages/statsmodels/tools/_testing.py:19: FutureWarning: pandas.util.testing is deprecated. Use the functions in the public API at pandas.testing instead.\n",
            "  import pandas.util.testing as tm\n"
          ],
          "name": "stderr"
        }
      ]
    },
    {
      "cell_type": "markdown",
      "metadata": {
        "id": "to8KLzNSeqhn"
      },
      "source": [
        "## Read the population dataset"
      ]
    },
    {
      "cell_type": "code",
      "metadata": {
        "colab": {
          "base_uri": "https://localhost:8080/"
        },
        "id": "-RnWiAtbYiZ4",
        "outputId": "4f16b349-18fc-49cb-d982-fafa3bfda107"
      },
      "source": [
        "from google.colab import drive\n",
        "drive.mount('/content/drive')"
      ],
      "execution_count": null,
      "outputs": [
        {
          "output_type": "stream",
          "text": [
            "Mounted at /content/drive\n"
          ],
          "name": "stdout"
        }
      ]
    },
    {
      "cell_type": "code",
      "metadata": {
        "id": "7O6vXKrYeqhn"
      },
      "source": [
        "population_df = pd.read_csv('/content/drive/My Drive/Arquivo/Datasets/population.csv', header=0, index_col=0)"
      ],
      "execution_count": null,
      "outputs": []
    },
    {
      "cell_type": "code",
      "metadata": {
        "colab": {
          "base_uri": "https://localhost:8080/",
          "height": 357
        },
        "id": "UPmQxvbyeqhn",
        "outputId": "9ec43417-95ae-4d72-c347-582a1c2886d9"
      },
      "source": [
        "population_df.head()"
      ],
      "execution_count": null,
      "outputs": [
        {
          "output_type": "execute_result",
          "data": {
            "text/html": [
              "<div>\n",
              "<style scoped>\n",
              "    .dataframe tbody tr th:only-of-type {\n",
              "        vertical-align: middle;\n",
              "    }\n",
              "\n",
              "    .dataframe tbody tr th {\n",
              "        vertical-align: top;\n",
              "    }\n",
              "\n",
              "    .dataframe thead th {\n",
              "        text-align: right;\n",
              "    }\n",
              "</style>\n",
              "<table border=\"1\" class=\"dataframe\">\n",
              "  <thead>\n",
              "    <tr style=\"text-align: right;\">\n",
              "      <th></th>\n",
              "      <th>Municípios</th>\n",
              "      <th>1991</th>\n",
              "      <th>1996</th>\n",
              "      <th>2000</th>\n",
              "      <th>2001</th>\n",
              "      <th>2002</th>\n",
              "      <th>2003</th>\n",
              "      <th>2004</th>\n",
              "      <th>2005</th>\n",
              "      <th>2006</th>\n",
              "      <th>2007</th>\n",
              "      <th>2008</th>\n",
              "      <th>2009</th>\n",
              "      <th>2010</th>\n",
              "      <th>2011</th>\n",
              "      <th>2012</th>\n",
              "      <th>2013</th>\n",
              "      <th>2014</th>\n",
              "      <th>2015</th>\n",
              "      <th>2016</th>\n",
              "      <th>2017</th>\n",
              "      <th>2018</th>\n",
              "      <th>2019</th>\n",
              "    </tr>\n",
              "    <tr>\n",
              "      <th>Codigo</th>\n",
              "      <th></th>\n",
              "      <th></th>\n",
              "      <th></th>\n",
              "      <th></th>\n",
              "      <th></th>\n",
              "      <th></th>\n",
              "      <th></th>\n",
              "      <th></th>\n",
              "      <th></th>\n",
              "      <th></th>\n",
              "      <th></th>\n",
              "      <th></th>\n",
              "      <th></th>\n",
              "      <th></th>\n",
              "      <th></th>\n",
              "      <th></th>\n",
              "      <th></th>\n",
              "      <th></th>\n",
              "      <th></th>\n",
              "      <th></th>\n",
              "      <th></th>\n",
              "      <th></th>\n",
              "      <th></th>\n",
              "    </tr>\n",
              "  </thead>\n",
              "  <tbody>\n",
              "    <tr>\n",
              "      <th>1100015</th>\n",
              "      <td>Alta Floresta D'Oeste (RO)</td>\n",
              "      <td>31980.0</td>\n",
              "      <td>33471.0</td>\n",
              "      <td>26511.0</td>\n",
              "      <td>26919</td>\n",
              "      <td>27237</td>\n",
              "      <td>27563</td>\n",
              "      <td>29001</td>\n",
              "      <td>28629</td>\n",
              "      <td>29005</td>\n",
              "      <td>23857.0</td>\n",
              "      <td>24577</td>\n",
              "      <td>24354</td>\n",
              "      <td>24392.0</td>\n",
              "      <td>24228</td>\n",
              "      <td>24069</td>\n",
              "      <td>25728</td>\n",
              "      <td>25652</td>\n",
              "      <td>25578</td>\n",
              "      <td>25506</td>\n",
              "      <td>25437</td>\n",
              "      <td>23167</td>\n",
              "      <td>22945</td>\n",
              "    </tr>\n",
              "    <tr>\n",
              "      <th>1100023</th>\n",
              "      <td>Ariquemes (RO)</td>\n",
              "      <td>83684.0</td>\n",
              "      <td>68503.0</td>\n",
              "      <td>74329.0</td>\n",
              "      <td>76371</td>\n",
              "      <td>78039</td>\n",
              "      <td>79680</td>\n",
              "      <td>86901</td>\n",
              "      <td>85031</td>\n",
              "      <td>86924</td>\n",
              "      <td>82388.0</td>\n",
              "      <td>84581</td>\n",
              "      <td>85541</td>\n",
              "      <td>90353.0</td>\n",
              "      <td>91570</td>\n",
              "      <td>92747</td>\n",
              "      <td>101269</td>\n",
              "      <td>102860</td>\n",
              "      <td>104401</td>\n",
              "      <td>105896</td>\n",
              "      <td>107345</td>\n",
              "      <td>106168</td>\n",
              "      <td>107863</td>\n",
              "    </tr>\n",
              "    <tr>\n",
              "      <th>1100031</th>\n",
              "      <td>Cabixi (RO)</td>\n",
              "      <td>8174.0</td>\n",
              "      <td>8263.0</td>\n",
              "      <td>7517.0</td>\n",
              "      <td>7501</td>\n",
              "      <td>7490</td>\n",
              "      <td>7478</td>\n",
              "      <td>7421</td>\n",
              "      <td>7436</td>\n",
              "      <td>7421</td>\n",
              "      <td>6575.0</td>\n",
              "      <td>6777</td>\n",
              "      <td>6695</td>\n",
              "      <td>6313.0</td>\n",
              "      <td>6221</td>\n",
              "      <td>6132</td>\n",
              "      <td>6495</td>\n",
              "      <td>6424</td>\n",
              "      <td>6355</td>\n",
              "      <td>6289</td>\n",
              "      <td>6224</td>\n",
              "      <td>5438</td>\n",
              "      <td>5312</td>\n",
              "    </tr>\n",
              "    <tr>\n",
              "      <th>1100049</th>\n",
              "      <td>Cacoal (RO)</td>\n",
              "      <td>78934.0</td>\n",
              "      <td>72922.0</td>\n",
              "      <td>73527.0</td>\n",
              "      <td>73996</td>\n",
              "      <td>74381</td>\n",
              "      <td>74758</td>\n",
              "      <td>76417</td>\n",
              "      <td>75988</td>\n",
              "      <td>76422</td>\n",
              "      <td>76155.0</td>\n",
              "      <td>78263</td>\n",
              "      <td>78675</td>\n",
              "      <td>78574.0</td>\n",
              "      <td>78959</td>\n",
              "      <td>79330</td>\n",
              "      <td>85863</td>\n",
              "      <td>86556</td>\n",
              "      <td>87226</td>\n",
              "      <td>87877</td>\n",
              "      <td>88507</td>\n",
              "      <td>84813</td>\n",
              "      <td>85359</td>\n",
              "    </tr>\n",
              "    <tr>\n",
              "      <th>1100056</th>\n",
              "      <td>Cerejeiras (RO)</td>\n",
              "      <td>21608.0</td>\n",
              "      <td>21157.0</td>\n",
              "      <td>18180.0</td>\n",
              "      <td>18012</td>\n",
              "      <td>17925</td>\n",
              "      <td>17794</td>\n",
              "      <td>17217</td>\n",
              "      <td>17366</td>\n",
              "      <td>17215</td>\n",
              "      <td>16290.0</td>\n",
              "      <td>16784</td>\n",
              "      <td>16622</td>\n",
              "      <td>17029.0</td>\n",
              "      <td>16939</td>\n",
              "      <td>16852</td>\n",
              "      <td>18041</td>\n",
              "      <td>18013</td>\n",
              "      <td>17986</td>\n",
              "      <td>17959</td>\n",
              "      <td>17934</td>\n",
              "      <td>16444</td>\n",
              "      <td>16323</td>\n",
              "    </tr>\n",
              "  </tbody>\n",
              "</table>\n",
              "</div>"
            ],
            "text/plain": [
              "                         Municípios     1991     1996  ...    2017    2018    2019\n",
              "Codigo                                                 ...                        \n",
              "1100015  Alta Floresta D'Oeste (RO)  31980.0  33471.0  ...   25437   23167   22945\n",
              "1100023              Ariquemes (RO)  83684.0  68503.0  ...  107345  106168  107863\n",
              "1100031                 Cabixi (RO)   8174.0   8263.0  ...    6224    5438    5312\n",
              "1100049                 Cacoal (RO)  78934.0  72922.0  ...   88507   84813   85359\n",
              "1100056             Cerejeiras (RO)  21608.0  21157.0  ...   17934   16444   16323\n",
              "\n",
              "[5 rows x 23 columns]"
            ]
          },
          "metadata": {
            "tags": []
          },
          "execution_count": 22
        }
      ]
    },
    {
      "cell_type": "code",
      "metadata": {
        "colab": {
          "base_uri": "https://localhost:8080/"
        },
        "id": "5NGub4WWeqhn",
        "outputId": "59ab48af-dd78-4a8c-a4cc-a714428a4737"
      },
      "source": [
        "population_df.dtypes"
      ],
      "execution_count": null,
      "outputs": [
        {
          "output_type": "execute_result",
          "data": {
            "text/plain": [
              "Municípios     object\n",
              "1991          float64\n",
              "1996          float64\n",
              "2000          float64\n",
              "2001           object\n",
              "2002           object\n",
              "2003           object\n",
              "2004           object\n",
              "2005           object\n",
              "2006           object\n",
              "2007          float64\n",
              "2008           object\n",
              "2009           object\n",
              "2010          float64\n",
              "2011           object\n",
              "2012            int64\n",
              "2013            int64\n",
              "2014            int64\n",
              "2015            int64\n",
              "2016            int64\n",
              "2017            int64\n",
              "2018            int64\n",
              "2019            int64\n",
              "dtype: object"
            ]
          },
          "metadata": {
            "tags": []
          },
          "execution_count": 23
        }
      ]
    },
    {
      "cell_type": "code",
      "metadata": {
        "id": "_ff97Qheeqhn"
      },
      "source": [
        "population_df[['2001', '2002', '2003', '2004', '2005', '2006', '2008', '2009', '2011']] = population_df[['2001', '2002', '2003', '2004', '2005', '2006', '2008', '2009', '2011']].stack().str.replace(',', '.').unstack()"
      ],
      "execution_count": null,
      "outputs": []
    },
    {
      "cell_type": "code",
      "metadata": {
        "colab": {
          "base_uri": "https://localhost:8080/",
          "height": 357
        },
        "id": "NZhEcNzteqho",
        "outputId": "c4f8fa2b-244c-4af7-afef-da73bae7d4dc"
      },
      "source": [
        "population_df.head()"
      ],
      "execution_count": null,
      "outputs": [
        {
          "output_type": "execute_result",
          "data": {
            "text/html": [
              "<div>\n",
              "<style scoped>\n",
              "    .dataframe tbody tr th:only-of-type {\n",
              "        vertical-align: middle;\n",
              "    }\n",
              "\n",
              "    .dataframe tbody tr th {\n",
              "        vertical-align: top;\n",
              "    }\n",
              "\n",
              "    .dataframe thead th {\n",
              "        text-align: right;\n",
              "    }\n",
              "</style>\n",
              "<table border=\"1\" class=\"dataframe\">\n",
              "  <thead>\n",
              "    <tr style=\"text-align: right;\">\n",
              "      <th></th>\n",
              "      <th>Municípios</th>\n",
              "      <th>1991</th>\n",
              "      <th>1996</th>\n",
              "      <th>2000</th>\n",
              "      <th>2001</th>\n",
              "      <th>2002</th>\n",
              "      <th>2003</th>\n",
              "      <th>2004</th>\n",
              "      <th>2005</th>\n",
              "      <th>2006</th>\n",
              "      <th>2007</th>\n",
              "      <th>2008</th>\n",
              "      <th>2009</th>\n",
              "      <th>2010</th>\n",
              "      <th>2011</th>\n",
              "      <th>2012</th>\n",
              "      <th>2013</th>\n",
              "      <th>2014</th>\n",
              "      <th>2015</th>\n",
              "      <th>2016</th>\n",
              "      <th>2017</th>\n",
              "      <th>2018</th>\n",
              "      <th>2019</th>\n",
              "    </tr>\n",
              "    <tr>\n",
              "      <th>Codigo</th>\n",
              "      <th></th>\n",
              "      <th></th>\n",
              "      <th></th>\n",
              "      <th></th>\n",
              "      <th></th>\n",
              "      <th></th>\n",
              "      <th></th>\n",
              "      <th></th>\n",
              "      <th></th>\n",
              "      <th></th>\n",
              "      <th></th>\n",
              "      <th></th>\n",
              "      <th></th>\n",
              "      <th></th>\n",
              "      <th></th>\n",
              "      <th></th>\n",
              "      <th></th>\n",
              "      <th></th>\n",
              "      <th></th>\n",
              "      <th></th>\n",
              "      <th></th>\n",
              "      <th></th>\n",
              "      <th></th>\n",
              "    </tr>\n",
              "  </thead>\n",
              "  <tbody>\n",
              "    <tr>\n",
              "      <th>1100015</th>\n",
              "      <td>Alta Floresta D'Oeste (RO)</td>\n",
              "      <td>31980.0</td>\n",
              "      <td>33471.0</td>\n",
              "      <td>26511.0</td>\n",
              "      <td>26919</td>\n",
              "      <td>27237</td>\n",
              "      <td>27563</td>\n",
              "      <td>29001</td>\n",
              "      <td>28629</td>\n",
              "      <td>29005</td>\n",
              "      <td>23857.0</td>\n",
              "      <td>24577</td>\n",
              "      <td>24354</td>\n",
              "      <td>24392.0</td>\n",
              "      <td>24228</td>\n",
              "      <td>24069</td>\n",
              "      <td>25728</td>\n",
              "      <td>25652</td>\n",
              "      <td>25578</td>\n",
              "      <td>25506</td>\n",
              "      <td>25437</td>\n",
              "      <td>23167</td>\n",
              "      <td>22945</td>\n",
              "    </tr>\n",
              "    <tr>\n",
              "      <th>1100023</th>\n",
              "      <td>Ariquemes (RO)</td>\n",
              "      <td>83684.0</td>\n",
              "      <td>68503.0</td>\n",
              "      <td>74329.0</td>\n",
              "      <td>76371</td>\n",
              "      <td>78039</td>\n",
              "      <td>79680</td>\n",
              "      <td>86901</td>\n",
              "      <td>85031</td>\n",
              "      <td>86924</td>\n",
              "      <td>82388.0</td>\n",
              "      <td>84581</td>\n",
              "      <td>85541</td>\n",
              "      <td>90353.0</td>\n",
              "      <td>91570</td>\n",
              "      <td>92747</td>\n",
              "      <td>101269</td>\n",
              "      <td>102860</td>\n",
              "      <td>104401</td>\n",
              "      <td>105896</td>\n",
              "      <td>107345</td>\n",
              "      <td>106168</td>\n",
              "      <td>107863</td>\n",
              "    </tr>\n",
              "    <tr>\n",
              "      <th>1100031</th>\n",
              "      <td>Cabixi (RO)</td>\n",
              "      <td>8174.0</td>\n",
              "      <td>8263.0</td>\n",
              "      <td>7517.0</td>\n",
              "      <td>7501</td>\n",
              "      <td>7490</td>\n",
              "      <td>7478</td>\n",
              "      <td>7421</td>\n",
              "      <td>7436</td>\n",
              "      <td>7421</td>\n",
              "      <td>6575.0</td>\n",
              "      <td>6777</td>\n",
              "      <td>6695</td>\n",
              "      <td>6313.0</td>\n",
              "      <td>6221</td>\n",
              "      <td>6132</td>\n",
              "      <td>6495</td>\n",
              "      <td>6424</td>\n",
              "      <td>6355</td>\n",
              "      <td>6289</td>\n",
              "      <td>6224</td>\n",
              "      <td>5438</td>\n",
              "      <td>5312</td>\n",
              "    </tr>\n",
              "    <tr>\n",
              "      <th>1100049</th>\n",
              "      <td>Cacoal (RO)</td>\n",
              "      <td>78934.0</td>\n",
              "      <td>72922.0</td>\n",
              "      <td>73527.0</td>\n",
              "      <td>73996</td>\n",
              "      <td>74381</td>\n",
              "      <td>74758</td>\n",
              "      <td>76417</td>\n",
              "      <td>75988</td>\n",
              "      <td>76422</td>\n",
              "      <td>76155.0</td>\n",
              "      <td>78263</td>\n",
              "      <td>78675</td>\n",
              "      <td>78574.0</td>\n",
              "      <td>78959</td>\n",
              "      <td>79330</td>\n",
              "      <td>85863</td>\n",
              "      <td>86556</td>\n",
              "      <td>87226</td>\n",
              "      <td>87877</td>\n",
              "      <td>88507</td>\n",
              "      <td>84813</td>\n",
              "      <td>85359</td>\n",
              "    </tr>\n",
              "    <tr>\n",
              "      <th>1100056</th>\n",
              "      <td>Cerejeiras (RO)</td>\n",
              "      <td>21608.0</td>\n",
              "      <td>21157.0</td>\n",
              "      <td>18180.0</td>\n",
              "      <td>18012</td>\n",
              "      <td>17925</td>\n",
              "      <td>17794</td>\n",
              "      <td>17217</td>\n",
              "      <td>17366</td>\n",
              "      <td>17215</td>\n",
              "      <td>16290.0</td>\n",
              "      <td>16784</td>\n",
              "      <td>16622</td>\n",
              "      <td>17029.0</td>\n",
              "      <td>16939</td>\n",
              "      <td>16852</td>\n",
              "      <td>18041</td>\n",
              "      <td>18013</td>\n",
              "      <td>17986</td>\n",
              "      <td>17959</td>\n",
              "      <td>17934</td>\n",
              "      <td>16444</td>\n",
              "      <td>16323</td>\n",
              "    </tr>\n",
              "  </tbody>\n",
              "</table>\n",
              "</div>"
            ],
            "text/plain": [
              "                         Municípios     1991     1996  ...    2017    2018    2019\n",
              "Codigo                                                 ...                        \n",
              "1100015  Alta Floresta D'Oeste (RO)  31980.0  33471.0  ...   25437   23167   22945\n",
              "1100023              Ariquemes (RO)  83684.0  68503.0  ...  107345  106168  107863\n",
              "1100031                 Cabixi (RO)   8174.0   8263.0  ...    6224    5438    5312\n",
              "1100049                 Cacoal (RO)  78934.0  72922.0  ...   88507   84813   85359\n",
              "1100056             Cerejeiras (RO)  21608.0  21157.0  ...   17934   16444   16323\n",
              "\n",
              "[5 rows x 23 columns]"
            ]
          },
          "metadata": {
            "tags": []
          },
          "execution_count": 26
        }
      ]
    },
    {
      "cell_type": "code",
      "metadata": {
        "id": "013hcNeheqho"
      },
      "source": [
        "population_df = population_df.replace(\"...\", np.nan)"
      ],
      "execution_count": null,
      "outputs": []
    },
    {
      "cell_type": "code",
      "metadata": {
        "id": "yaXoBN_Teqho"
      },
      "source": [
        "population_df.iloc[:,1:] = population_df.iloc[:,1:].apply(pd.to_numeric)"
      ],
      "execution_count": null,
      "outputs": []
    },
    {
      "cell_type": "code",
      "metadata": {
        "colab": {
          "base_uri": "https://localhost:8080/",
          "height": 293
        },
        "id": "ONMIqaZOZYJc",
        "outputId": "2c003afc-a344-42e8-c384-913c26ffbfe1"
      },
      "source": [
        "population_df.loc[population_df['Municípios'] == 'São Paulo (SP)'].iloc[0,1:].plot()"
      ],
      "execution_count": null,
      "outputs": [
        {
          "output_type": "execute_result",
          "data": {
            "text/plain": [
              "<matplotlib.axes._subplots.AxesSubplot at 0x7f3b7ff37cf8>"
            ]
          },
          "metadata": {
            "tags": []
          },
          "execution_count": 34
        },
        {
          "output_type": "display_data",
          "data": {
            "image/png": "[encoded data removed]",
            "text/plain": [
              "<Figure size 432x288 with 1 Axes>"
            ]
          },
          "metadata": {
            "tags": [],
            "needs_background": "light"
          }
        }
      ]
    },
    {
      "cell_type": "markdown",
      "metadata": {
        "id": "zUwbBipNoIt1"
      },
      "source": [
        "## Engenharia de Dados"
      ]
    },
    {
      "cell_type": "code",
      "metadata": {
        "id": "OylipTrUaRCv"
      },
      "source": [
        "#!pip install gspread\n",
        "#!pip install oauth2client"
      ],
      "execution_count": null,
      "outputs": []
    },
    {
      "cell_type": "code",
      "metadata": {
        "id": "WB2WSe9pn60v"
      },
      "source": [
        "from google.colab import auth\n",
        "import gspread\n",
        "from oauth2client.client import GoogleCredentials\n",
        "import pandas as pd\n",
        "import numpy as np\n",
        "\n",
        "auth.authenticate_user()\n",
        "gc = gspread.authorize(GoogleCredentials.get_application_default())\n",
        "ibge_data_total = gc.open('IBGE Data')"
      ],
      "execution_count": null,
      "outputs": []
    },
    {
      "cell_type": "code",
      "metadata": {
        "colab": {
          "base_uri": "https://localhost:8080/",
          "height": 241
        },
        "id": "MTulh1DXeO-p",
        "outputId": "b038f698-49d6-44a4-a69d-437d1858d998"
      },
      "source": [
        "##IDHM\n",
        "index = 0\n",
        "df_aux = ibge_data_total.get_worksheet(index) \n",
        "data = df_aux.get_all_values()\n",
        "headers = data.pop(0)\n",
        "df_idhm = pd.DataFrame(data, columns=headers)\n",
        "df_idhm = df_idhm.replace('...', np.nan)\n",
        "df_idhm = df_idhm.set_index('Código')\n",
        "for i in df_idhm.columns:\n",
        "  if ('20' in i) or ('19' in i):\n",
        "    df_idhm[i] = df_idhm[i].astype('float64')\n",
        "df_idhm.head(3)"
      ],
      "execution_count": null,
      "outputs": [
        {
          "output_type": "execute_result",
          "data": {
            "text/html": [
              "<div>\n",
              "<style scoped>\n",
              "    .dataframe tbody tr th:only-of-type {\n",
              "        vertical-align: middle;\n",
              "    }\n",
              "\n",
              "    .dataframe tbody tr th {\n",
              "        vertical-align: top;\n",
              "    }\n",
              "\n",
              "    .dataframe thead th {\n",
              "        text-align: right;\n",
              "    }\n",
              "</style>\n",
              "<table border=\"1\" class=\"dataframe\">\n",
              "  <thead>\n",
              "    <tr style=\"text-align: right;\">\n",
              "      <th></th>\n",
              "      <th>Municípios</th>\n",
              "      <th>IDHM 1991</th>\n",
              "      <th>IDHM 2000</th>\n",
              "      <th>IDHM 2010</th>\n",
              "      <th>IDHM Renda 1991</th>\n",
              "      <th>IDHM Renda 2000</th>\n",
              "      <th>IDHM Renda 2010</th>\n",
              "      <th>IDHM Longevidade 1991</th>\n",
              "      <th>IDHM Longevidade 2000</th>\n",
              "      <th>IDHM Longevidade 2010</th>\n",
              "      <th>IDHM Educação 1991</th>\n",
              "      <th>IDHM Educação 2000</th>\n",
              "      <th>IDHM Educação 2010</th>\n",
              "    </tr>\n",
              "    <tr>\n",
              "      <th>Código</th>\n",
              "      <th></th>\n",
              "      <th></th>\n",
              "      <th></th>\n",
              "      <th></th>\n",
              "      <th></th>\n",
              "      <th></th>\n",
              "      <th></th>\n",
              "      <th></th>\n",
              "      <th></th>\n",
              "      <th></th>\n",
              "      <th></th>\n",
              "      <th></th>\n",
              "      <th></th>\n",
              "    </tr>\n",
              "  </thead>\n",
              "  <tbody>\n",
              "    <tr>\n",
              "      <th>76</th>\n",
              "      <td>Brasil</td>\n",
              "      <td>0.493</td>\n",
              "      <td>0.612</td>\n",
              "      <td>0.727</td>\n",
              "      <td>0.647</td>\n",
              "      <td>0.692</td>\n",
              "      <td>0.739</td>\n",
              "      <td>0.662</td>\n",
              "      <td>0.727</td>\n",
              "      <td>0.816</td>\n",
              "      <td>0.279</td>\n",
              "      <td>0.456</td>\n",
              "      <td>0.637</td>\n",
              "    </tr>\n",
              "    <tr>\n",
              "      <th>5200050</th>\n",
              "      <td>Abadia de Goiás</td>\n",
              "      <td>0.408</td>\n",
              "      <td>0.569</td>\n",
              "      <td>0.708</td>\n",
              "      <td>0.563</td>\n",
              "      <td>0.623</td>\n",
              "      <td>0.687</td>\n",
              "      <td>0.658</td>\n",
              "      <td>0.765</td>\n",
              "      <td>0.830</td>\n",
              "      <td>0.183</td>\n",
              "      <td>0.386</td>\n",
              "      <td>0.622</td>\n",
              "    </tr>\n",
              "    <tr>\n",
              "      <th>3100104</th>\n",
              "      <td>Abadia dos Dourados</td>\n",
              "      <td>0.449</td>\n",
              "      <td>0.575</td>\n",
              "      <td>0.689</td>\n",
              "      <td>0.551</td>\n",
              "      <td>0.616</td>\n",
              "      <td>0.693</td>\n",
              "      <td>0.728</td>\n",
              "      <td>0.799</td>\n",
              "      <td>0.839</td>\n",
              "      <td>0.225</td>\n",
              "      <td>0.387</td>\n",
              "      <td>0.563</td>\n",
              "    </tr>\n",
              "  </tbody>\n",
              "</table>\n",
              "</div>"
            ],
            "text/plain": [
              "                  Municípios  IDHM 1991  ...  IDHM Educação 2000  IDHM Educação 2010\n",
              "Código                                   ...                                        \n",
              "76                    Brasil      0.493  ...               0.456               0.637\n",
              "5200050      Abadia de Goiás      0.408  ...               0.386               0.622\n",
              "3100104  Abadia dos Dourados      0.449  ...               0.387               0.563\n",
              "\n",
              "[3 rows x 13 columns]"
            ]
          },
          "metadata": {
            "tags": []
          },
          "execution_count": 13
        }
      ]
    },
    {
      "cell_type": "code",
      "metadata": {
        "colab": {
          "base_uri": "https://localhost:8080/"
        },
        "id": "PYWbOoVCeao5",
        "outputId": "b0b0ff5a-a0d4-426d-d69a-989499232a16"
      },
      "source": [
        "## Unidade Empresarias\n",
        "index = 1\n",
        "df_aux = ibge_data_total.get_worksheet(index) \n",
        "data = df_aux.get_all_values()[2:]\n",
        "headers = data.pop(0)\n",
        "df_empresas_old = pd.DataFrame(data[:], columns=headers)\n",
        "df_empresas_old = df_empresas_old.replace('...', np.nan)\n",
        "df_empresas_old = df_empresas_old.set_index('Código')\n",
        "df_empresas_old.head(3)\n",
        "for i in df_empresas_old.columns:\n",
        "  if ('20' in i) or ('19' in i):\n",
        "    df_empresas_old[i] = df_empresas_old[i].astype('float64')\n",
        "df_empresas_old.info()"
      ],
      "execution_count": null,
      "outputs": [
        {
          "output_type": "stream",
          "text": [
            "<class 'pandas.core.frame.DataFrame'>\n",
            "Index: 5564 entries, 1100015 to 5300108\n",
            "Data columns (total 12 columns):\n",
            " #   Column      Non-Null Count  Dtype  \n",
            "---  ------      --------------  -----  \n",
            " 0   Municípios  5564 non-null   object \n",
            " 1   1996        5024 non-null   float64\n",
            " 2   1997        5493 non-null   float64\n",
            " 3   1998        5502 non-null   float64\n",
            " 4   1999        5504 non-null   float64\n",
            " 5   2000        5505 non-null   float64\n",
            " 6   2001        5560 non-null   float64\n",
            " 7   2002        5560 non-null   float64\n",
            " 8   2003        5560 non-null   float64\n",
            " 9   2004        5560 non-null   float64\n",
            " 10  2005        5564 non-null   float64\n",
            " 11  2006        5564 non-null   float64\n",
            "dtypes: float64(11), object(1)\n",
            "memory usage: 565.1+ KB\n"
          ],
          "name": "stdout"
        }
      ]
    },
    {
      "cell_type": "code",
      "metadata": {
        "colab": {
          "base_uri": "https://localhost:8080/",
          "height": 173
        },
        "id": "xhckg4eshaif",
        "outputId": "5fea8a11-8868-4788-cce7-06d3df2e2f28"
      },
      "source": [
        "## Nro Casamentos\n",
        "index = 2\n",
        "df_aux = ibge_data_total.get_worksheet(index) \n",
        "data = df_aux.get_all_values()[2:]\n",
        "headers = data.pop(0)\n",
        "df_casamentos = pd.DataFrame(data[:], columns=headers)\n",
        "df_casamentos = df_casamentos.replace('...', np.nan)\n",
        "df_casamentos = df_casamentos.set_index('Código')\n",
        "for i in df_casamentos.columns:\n",
        "  if ('20' in i) or ('19' in i):\n",
        "    df_casamentos[i] = df_casamentos[i].astype('float64')\n",
        "df_casamentos.head(3)"
      ],
      "execution_count": null,
      "outputs": [
        {
          "output_type": "execute_result",
          "data": {
            "text/html": [
              "<div>\n",
              "<style scoped>\n",
              "    .dataframe tbody tr th:only-of-type {\n",
              "        vertical-align: middle;\n",
              "    }\n",
              "\n",
              "    .dataframe tbody tr th {\n",
              "        vertical-align: top;\n",
              "    }\n",
              "\n",
              "    .dataframe thead th {\n",
              "        text-align: right;\n",
              "    }\n",
              "</style>\n",
              "<table border=\"1\" class=\"dataframe\">\n",
              "  <thead>\n",
              "    <tr style=\"text-align: right;\">\n",
              "      <th></th>\n",
              "      <th>Municípios</th>\n",
              "      <th>2003</th>\n",
              "      <th>2004</th>\n",
              "      <th>2005</th>\n",
              "      <th>2006</th>\n",
              "      <th>2007</th>\n",
              "      <th>2008</th>\n",
              "      <th>2009</th>\n",
              "      <th>2010</th>\n",
              "      <th>2011</th>\n",
              "      <th>2012</th>\n",
              "      <th>2013</th>\n",
              "      <th>2014</th>\n",
              "      <th>2015</th>\n",
              "      <th>2016</th>\n",
              "      <th>2017</th>\n",
              "      <th>2018</th>\n",
              "    </tr>\n",
              "    <tr>\n",
              "      <th>Código</th>\n",
              "      <th></th>\n",
              "      <th></th>\n",
              "      <th></th>\n",
              "      <th></th>\n",
              "      <th></th>\n",
              "      <th></th>\n",
              "      <th></th>\n",
              "      <th></th>\n",
              "      <th></th>\n",
              "      <th></th>\n",
              "      <th></th>\n",
              "      <th></th>\n",
              "      <th></th>\n",
              "      <th></th>\n",
              "      <th></th>\n",
              "      <th></th>\n",
              "      <th></th>\n",
              "    </tr>\n",
              "  </thead>\n",
              "  <tbody>\n",
              "    <tr>\n",
              "      <th>1100015</th>\n",
              "      <td>Alta Floresta D'Oeste (RO)</td>\n",
              "      <td>124.0</td>\n",
              "      <td>129.0</td>\n",
              "      <td>161.0</td>\n",
              "      <td>145.0</td>\n",
              "      <td>152.0</td>\n",
              "      <td>134.0</td>\n",
              "      <td>179.0</td>\n",
              "      <td>136.0</td>\n",
              "      <td>142.0</td>\n",
              "      <td>150.0</td>\n",
              "      <td>183.0</td>\n",
              "      <td>204.0</td>\n",
              "      <td>203.0</td>\n",
              "      <td>175.0</td>\n",
              "      <td>171.0</td>\n",
              "      <td>192.0</td>\n",
              "    </tr>\n",
              "    <tr>\n",
              "      <th>1100023</th>\n",
              "      <td>Ariquemes (RO)</td>\n",
              "      <td>368.0</td>\n",
              "      <td>449.0</td>\n",
              "      <td>361.0</td>\n",
              "      <td>412.0</td>\n",
              "      <td>452.0</td>\n",
              "      <td>390.0</td>\n",
              "      <td>489.0</td>\n",
              "      <td>735.0</td>\n",
              "      <td>771.0</td>\n",
              "      <td>642.0</td>\n",
              "      <td>706.0</td>\n",
              "      <td>761.0</td>\n",
              "      <td>838.0</td>\n",
              "      <td>1007.0</td>\n",
              "      <td>980.0</td>\n",
              "      <td>665.0</td>\n",
              "    </tr>\n",
              "    <tr>\n",
              "      <th>1100031</th>\n",
              "      <td>Cabixi (RO)</td>\n",
              "      <td>45.0</td>\n",
              "      <td>34.0</td>\n",
              "      <td>37.0</td>\n",
              "      <td>48.0</td>\n",
              "      <td>50.0</td>\n",
              "      <td>54.0</td>\n",
              "      <td>31.0</td>\n",
              "      <td>44.0</td>\n",
              "      <td>39.0</td>\n",
              "      <td>41.0</td>\n",
              "      <td>29.0</td>\n",
              "      <td>30.0</td>\n",
              "      <td>44.0</td>\n",
              "      <td>42.0</td>\n",
              "      <td>50.0</td>\n",
              "      <td>45.0</td>\n",
              "    </tr>\n",
              "  </tbody>\n",
              "</table>\n",
              "</div>"
            ],
            "text/plain": [
              "                         Municípios   2003   2004  ...    2016   2017   2018\n",
              "Código                                             ...                      \n",
              "1100015  Alta Floresta D'Oeste (RO)  124.0  129.0  ...   175.0  171.0  192.0\n",
              "1100023              Ariquemes (RO)  368.0  449.0  ...  1007.0  980.0  665.0\n",
              "1100031                 Cabixi (RO)   45.0   34.0  ...    42.0   50.0   45.0\n",
              "\n",
              "[3 rows x 17 columns]"
            ]
          },
          "metadata": {
            "tags": []
          },
          "execution_count": 15
        }
      ]
    },
    {
      "cell_type": "code",
      "metadata": {
        "colab": {
          "base_uri": "https://localhost:8080/",
          "height": 173
        },
        "id": "cLNHjsIkh6wq",
        "outputId": "b86a398c-6b20-4333-d6fb-ecbfcad3f1f9"
      },
      "source": [
        "#Variável - Salários e outras remunerações (Mil Reais)\t\t\t\t\t\t\t\t\t\t\t\t\t\t\n",
        "index = 4\n",
        "df_aux = ibge_data_total.get_worksheet(index) \n",
        "data = df_aux.get_all_values()[2:]\n",
        "headers = data.pop(0)\n",
        "df_salarios = pd.DataFrame(data[:], columns=headers)\n",
        "df_salarios = df_salarios.replace('...', np.nan)\n",
        "df_salarios = df_salarios.replace('X', np.nan)\n",
        "df_salarios = df_salarios.replace('-', np.nan)\n",
        "df_salarios = df_salarios.set_index('Código')\n",
        "for i in df_salarios.columns:\n",
        "  if ('20' in i) or ('19' in i):\n",
        "    df_salarios[i] = df_salarios[i].astype('float64')\n",
        "df_salarios.head(3)"
      ],
      "execution_count": null,
      "outputs": [
        {
          "output_type": "execute_result",
          "data": {
            "text/html": [
              "<div>\n",
              "<style scoped>\n",
              "    .dataframe tbody tr th:only-of-type {\n",
              "        vertical-align: middle;\n",
              "    }\n",
              "\n",
              "    .dataframe tbody tr th {\n",
              "        vertical-align: top;\n",
              "    }\n",
              "\n",
              "    .dataframe thead th {\n",
              "        text-align: right;\n",
              "    }\n",
              "</style>\n",
              "<table border=\"1\" class=\"dataframe\">\n",
              "  <thead>\n",
              "    <tr style=\"text-align: right;\">\n",
              "      <th></th>\n",
              "      <th>Municípios</th>\n",
              "      <th>2006</th>\n",
              "      <th>2007</th>\n",
              "      <th>2008</th>\n",
              "      <th>2009</th>\n",
              "      <th>2010</th>\n",
              "      <th>2011</th>\n",
              "      <th>2012</th>\n",
              "      <th>2013</th>\n",
              "      <th>2014</th>\n",
              "      <th>2015</th>\n",
              "      <th>2016</th>\n",
              "      <th>2017</th>\n",
              "      <th>2018</th>\n",
              "    </tr>\n",
              "    <tr>\n",
              "      <th>Código</th>\n",
              "      <th></th>\n",
              "      <th></th>\n",
              "      <th></th>\n",
              "      <th></th>\n",
              "      <th></th>\n",
              "      <th></th>\n",
              "      <th></th>\n",
              "      <th></th>\n",
              "      <th></th>\n",
              "      <th></th>\n",
              "      <th></th>\n",
              "      <th></th>\n",
              "      <th></th>\n",
              "      <th></th>\n",
              "    </tr>\n",
              "  </thead>\n",
              "  <tbody>\n",
              "    <tr>\n",
              "      <th>1100015</th>\n",
              "      <td>Alta Floresta D'Oeste (RO)</td>\n",
              "      <td>13201.0</td>\n",
              "      <td>14643.0</td>\n",
              "      <td>17767.0</td>\n",
              "      <td>20423.0</td>\n",
              "      <td>24960.0</td>\n",
              "      <td>28939.0</td>\n",
              "      <td>33746.0</td>\n",
              "      <td>37769.0</td>\n",
              "      <td>42257.0</td>\n",
              "      <td>46459.0</td>\n",
              "      <td>55135.0</td>\n",
              "      <td>54002.0</td>\n",
              "      <td>52732.0</td>\n",
              "    </tr>\n",
              "    <tr>\n",
              "      <th>1100023</th>\n",
              "      <td>Ariquemes (RO)</td>\n",
              "      <td>96098.0</td>\n",
              "      <td>109153.0</td>\n",
              "      <td>142171.0</td>\n",
              "      <td>170618.0</td>\n",
              "      <td>183190.0</td>\n",
              "      <td>216048.0</td>\n",
              "      <td>253296.0</td>\n",
              "      <td>288705.0</td>\n",
              "      <td>299988.0</td>\n",
              "      <td>321800.0</td>\n",
              "      <td>347135.0</td>\n",
              "      <td>377716.0</td>\n",
              "      <td>386576.0</td>\n",
              "    </tr>\n",
              "    <tr>\n",
              "      <th>1100031</th>\n",
              "      <td>Cabixi (RO)</td>\n",
              "      <td>2321.0</td>\n",
              "      <td>2710.0</td>\n",
              "      <td>3399.0</td>\n",
              "      <td>4410.0</td>\n",
              "      <td>5158.0</td>\n",
              "      <td>5709.0</td>\n",
              "      <td>6560.0</td>\n",
              "      <td>7046.0</td>\n",
              "      <td>7244.0</td>\n",
              "      <td>7937.0</td>\n",
              "      <td>9548.0</td>\n",
              "      <td>10315.0</td>\n",
              "      <td>10209.0</td>\n",
              "    </tr>\n",
              "  </tbody>\n",
              "</table>\n",
              "</div>"
            ],
            "text/plain": [
              "                         Municípios     2006  ...      2017      2018\n",
              "Código                                        ...                    \n",
              "1100015  Alta Floresta D'Oeste (RO)  13201.0  ...   54002.0   52732.0\n",
              "1100023              Ariquemes (RO)  96098.0  ...  377716.0  386576.0\n",
              "1100031                 Cabixi (RO)   2321.0  ...   10315.0   10209.0\n",
              "\n",
              "[3 rows x 14 columns]"
            ]
          },
          "metadata": {
            "tags": []
          },
          "execution_count": 16
        }
      ]
    },
    {
      "cell_type": "code",
      "metadata": {
        "colab": {
          "base_uri": "https://localhost:8080/",
          "height": 261
        },
        "id": "uscM1WzzjRmu",
        "outputId": "1d7c1e72-8091-49e5-ebe9-40654fb96b93"
      },
      "source": [
        "## População  \n",
        "index = 5\n",
        "df_aux = ibge_data_total.get_worksheet(index) \n",
        "data = df_aux.get_all_values()[:]\n",
        "headers = data.pop(0)\n",
        "df_populacao = pd.DataFrame(data[:], columns=headers)\n",
        "df_populacao = df_populacao.replace('...', np.nan)\n",
        "df_populacao = df_populacao.replace('', np.nan)\n",
        "df_populacao = df_populacao.set_index('Código')\n",
        "for i in df_populacao.columns:\n",
        "  if ('20' in i) or ('19' in i):\n",
        "    df_populacao[i] = df_populacao[i].astype('float64')\n",
        "df_populacao.head(3)"
      ],
      "execution_count": null,
      "outputs": [
        {
          "output_type": "execute_result",
          "data": {
            "text/html": [
              "<div>\n",
              "<style scoped>\n",
              "    .dataframe tbody tr th:only-of-type {\n",
              "        vertical-align: middle;\n",
              "    }\n",
              "\n",
              "    .dataframe tbody tr th {\n",
              "        vertical-align: top;\n",
              "    }\n",
              "\n",
              "    .dataframe thead th {\n",
              "        text-align: right;\n",
              "    }\n",
              "</style>\n",
              "<table border=\"1\" class=\"dataframe\">\n",
              "  <thead>\n",
              "    <tr style=\"text-align: right;\">\n",
              "      <th></th>\n",
              "      <th>Municípios</th>\n",
              "      <th>1991</th>\n",
              "      <th>1996</th>\n",
              "      <th>2000</th>\n",
              "      <th>2001</th>\n",
              "      <th>2002</th>\n",
              "      <th>2003</th>\n",
              "      <th>2004</th>\n",
              "      <th>2005</th>\n",
              "      <th>2006</th>\n",
              "      <th>2007</th>\n",
              "      <th>2008</th>\n",
              "      <th>2009</th>\n",
              "      <th>2010</th>\n",
              "      <th>2011</th>\n",
              "      <th>2012</th>\n",
              "      <th>2013</th>\n",
              "      <th>2014</th>\n",
              "      <th>2015</th>\n",
              "      <th>2016</th>\n",
              "      <th>2017</th>\n",
              "      <th>2018</th>\n",
              "      <th>2019</th>\n",
              "    </tr>\n",
              "    <tr>\n",
              "      <th>Código</th>\n",
              "      <th></th>\n",
              "      <th></th>\n",
              "      <th></th>\n",
              "      <th></th>\n",
              "      <th></th>\n",
              "      <th></th>\n",
              "      <th></th>\n",
              "      <th></th>\n",
              "      <th></th>\n",
              "      <th></th>\n",
              "      <th></th>\n",
              "      <th></th>\n",
              "      <th></th>\n",
              "      <th></th>\n",
              "      <th></th>\n",
              "      <th></th>\n",
              "      <th></th>\n",
              "      <th></th>\n",
              "      <th></th>\n",
              "      <th></th>\n",
              "      <th></th>\n",
              "      <th></th>\n",
              "      <th></th>\n",
              "    </tr>\n",
              "  </thead>\n",
              "  <tbody>\n",
              "    <tr>\n",
              "      <th>1100015</th>\n",
              "      <td>Alta Floresta D'Oeste (RO)</td>\n",
              "      <td>31980.0</td>\n",
              "      <td>33471.0</td>\n",
              "      <td>26511.0</td>\n",
              "      <td>26919.0</td>\n",
              "      <td>27237.0</td>\n",
              "      <td>27563.0</td>\n",
              "      <td>29001.0</td>\n",
              "      <td>28629.0</td>\n",
              "      <td>29005.0</td>\n",
              "      <td>23857.0</td>\n",
              "      <td>24577.0</td>\n",
              "      <td>24354.0</td>\n",
              "      <td>24392.0</td>\n",
              "      <td>24228.0</td>\n",
              "      <td>24069.0</td>\n",
              "      <td>25728.0</td>\n",
              "      <td>25652.0</td>\n",
              "      <td>25578.0</td>\n",
              "      <td>25506.0</td>\n",
              "      <td>25437.0</td>\n",
              "      <td>23167.0</td>\n",
              "      <td>22945.0</td>\n",
              "    </tr>\n",
              "    <tr>\n",
              "      <th>1100023</th>\n",
              "      <td>Ariquemes (RO)</td>\n",
              "      <td>83684.0</td>\n",
              "      <td>68503.0</td>\n",
              "      <td>74329.0</td>\n",
              "      <td>76371.0</td>\n",
              "      <td>78039.0</td>\n",
              "      <td>79680.0</td>\n",
              "      <td>86901.0</td>\n",
              "      <td>85031.0</td>\n",
              "      <td>86924.0</td>\n",
              "      <td>82388.0</td>\n",
              "      <td>84581.0</td>\n",
              "      <td>85541.0</td>\n",
              "      <td>90353.0</td>\n",
              "      <td>91570.0</td>\n",
              "      <td>92747.0</td>\n",
              "      <td>101269.0</td>\n",
              "      <td>102860.0</td>\n",
              "      <td>104401.0</td>\n",
              "      <td>105896.0</td>\n",
              "      <td>107345.0</td>\n",
              "      <td>106168.0</td>\n",
              "      <td>107863.0</td>\n",
              "    </tr>\n",
              "    <tr>\n",
              "      <th>1100031</th>\n",
              "      <td>Cabixi (RO)</td>\n",
              "      <td>8174.0</td>\n",
              "      <td>8263.0</td>\n",
              "      <td>7517.0</td>\n",
              "      <td>7501.0</td>\n",
              "      <td>7490.0</td>\n",
              "      <td>7478.0</td>\n",
              "      <td>7421.0</td>\n",
              "      <td>7436.0</td>\n",
              "      <td>7421.0</td>\n",
              "      <td>6575.0</td>\n",
              "      <td>6777.0</td>\n",
              "      <td>6695.0</td>\n",
              "      <td>6313.0</td>\n",
              "      <td>6221.0</td>\n",
              "      <td>6132.0</td>\n",
              "      <td>6495.0</td>\n",
              "      <td>6424.0</td>\n",
              "      <td>6355.0</td>\n",
              "      <td>6289.0</td>\n",
              "      <td>6224.0</td>\n",
              "      <td>5438.0</td>\n",
              "      <td>5312.0</td>\n",
              "    </tr>\n",
              "  </tbody>\n",
              "</table>\n",
              "</div>"
            ],
            "text/plain": [
              "                         Municípios     1991  ...      2018      2019\n",
              "Código                                        ...                    \n",
              "1100015  Alta Floresta D'Oeste (RO)  31980.0  ...   23167.0   22945.0\n",
              "1100023              Ariquemes (RO)  83684.0  ...  106168.0  107863.0\n",
              "1100031                 Cabixi (RO)   8174.0  ...    5438.0    5312.0\n",
              "\n",
              "[3 rows x 23 columns]"
            ]
          },
          "metadata": {
            "tags": []
          },
          "execution_count": 17
        }
      ]
    },
    {
      "cell_type": "code",
      "metadata": {
        "colab": {
          "base_uri": "https://localhost:8080/",
          "height": 227
        },
        "id": "WLKUwPHlkUbK",
        "outputId": "8a5f230f-7a89-4e6b-cdef-a1f67f18a6c2"
      },
      "source": [
        "## PIB\n",
        "index = 6\n",
        "name_worksheet_aux = ibge_data_total.worksheets()[index].title\n",
        "worksheet_aux = ibge_data_total.get_worksheet(index) \n",
        "data = worksheet_aux.get_all_values()\n",
        "headers = data.pop(0)\n",
        "df_pib = pd.DataFrame(data, columns=headers)\n",
        "df_pib = df_pib.replace('...', np.nan)\n",
        "df_pib = df_pib.set_index('Código')\n",
        "for i in df_pib.columns:\n",
        "  if ('20' in i) or ('19' in i):\n",
        "    df_pib[i] = df_pib[i].astype('float64')\n",
        "df_pib.head(3)"
      ],
      "execution_count": null,
      "outputs": [
        {
          "output_type": "execute_result",
          "data": {
            "text/html": [
              "<div>\n",
              "<style scoped>\n",
              "    .dataframe tbody tr th:only-of-type {\n",
              "        vertical-align: middle;\n",
              "    }\n",
              "\n",
              "    .dataframe tbody tr th {\n",
              "        vertical-align: top;\n",
              "    }\n",
              "\n",
              "    .dataframe thead th {\n",
              "        text-align: right;\n",
              "    }\n",
              "</style>\n",
              "<table border=\"1\" class=\"dataframe\">\n",
              "  <thead>\n",
              "    <tr style=\"text-align: right;\">\n",
              "      <th></th>\n",
              "      <th>Municípios</th>\n",
              "      <th>2002</th>\n",
              "      <th>2003</th>\n",
              "      <th>2004</th>\n",
              "      <th>2005</th>\n",
              "      <th>2006</th>\n",
              "      <th>2007</th>\n",
              "      <th>2008</th>\n",
              "      <th>2009</th>\n",
              "      <th>2010</th>\n",
              "      <th>2011</th>\n",
              "      <th>2012</th>\n",
              "      <th>2013</th>\n",
              "      <th>2014</th>\n",
              "      <th>2015</th>\n",
              "      <th>2016</th>\n",
              "      <th>2017</th>\n",
              "    </tr>\n",
              "    <tr>\n",
              "      <th>Código</th>\n",
              "      <th></th>\n",
              "      <th></th>\n",
              "      <th></th>\n",
              "      <th></th>\n",
              "      <th></th>\n",
              "      <th></th>\n",
              "      <th></th>\n",
              "      <th></th>\n",
              "      <th></th>\n",
              "      <th></th>\n",
              "      <th></th>\n",
              "      <th></th>\n",
              "      <th></th>\n",
              "      <th></th>\n",
              "      <th></th>\n",
              "      <th></th>\n",
              "      <th></th>\n",
              "    </tr>\n",
              "  </thead>\n",
              "  <tbody>\n",
              "    <tr>\n",
              "      <th>1100015</th>\n",
              "      <td>Alta Floresta D'Oeste</td>\n",
              "      <td>111291.00</td>\n",
              "      <td>143222.38</td>\n",
              "      <td>173990.79</td>\n",
              "      <td>167127.36</td>\n",
              "      <td>168805.06</td>\n",
              "      <td>191364.33</td>\n",
              "      <td>248961.79</td>\n",
              "      <td>256986.14</td>\n",
              "      <td>262076.88</td>\n",
              "      <td>280509.58</td>\n",
              "      <td>329029.48</td>\n",
              "      <td>341324.69</td>\n",
              "      <td>377799.00</td>\n",
              "      <td>421299.98</td>\n",
              "      <td>478216.98</td>\n",
              "      <td>498864.19</td>\n",
              "    </tr>\n",
              "    <tr>\n",
              "      <th>1100023</th>\n",
              "      <td>Ariquemes</td>\n",
              "      <td>449592.82</td>\n",
              "      <td>539636.21</td>\n",
              "      <td>657193.23</td>\n",
              "      <td>749021.19</td>\n",
              "      <td>790696.63</td>\n",
              "      <td>905202.63</td>\n",
              "      <td>1064821.96</td>\n",
              "      <td>1133094.86</td>\n",
              "      <td>1364693.78</td>\n",
              "      <td>1651885.02</td>\n",
              "      <td>1703641.94</td>\n",
              "      <td>1799852.51</td>\n",
              "      <td>1921531.62</td>\n",
              "      <td>2037798.61</td>\n",
              "      <td>2184346.10</td>\n",
              "      <td>2296073.71</td>\n",
              "    </tr>\n",
              "    <tr>\n",
              "      <th>1100031</th>\n",
              "      <td>Cabixi</td>\n",
              "      <td>31767.52</td>\n",
              "      <td>40984.57</td>\n",
              "      <td>43392.50</td>\n",
              "      <td>49129.64</td>\n",
              "      <td>46883.82</td>\n",
              "      <td>49165.76</td>\n",
              "      <td>60587.71</td>\n",
              "      <td>69776.00</td>\n",
              "      <td>69611.11</td>\n",
              "      <td>77217.19</td>\n",
              "      <td>99586.48</td>\n",
              "      <td>96364.54</td>\n",
              "      <td>113477.40</td>\n",
              "      <td>116565.18</td>\n",
              "      <td>133342.25</td>\n",
              "      <td>138893.55</td>\n",
              "    </tr>\n",
              "  </tbody>\n",
              "</table>\n",
              "</div>"
            ],
            "text/plain": [
              "                    Municípios       2002  ...        2016        2017\n",
              "Código                                     ...                        \n",
              "1100015  Alta Floresta D'Oeste  111291.00  ...   478216.98   498864.19\n",
              "1100023              Ariquemes  449592.82  ...  2184346.10  2296073.71\n",
              "1100031                 Cabixi   31767.52  ...   133342.25   138893.55\n",
              "\n",
              "[3 rows x 17 columns]"
            ]
          },
          "metadata": {
            "tags": []
          },
          "execution_count": 18
        }
      ]
    },
    {
      "cell_type": "code",
      "metadata": {
        "colab": {
          "base_uri": "https://localhost:8080/",
          "height": 289
        },
        "id": "Vy2I9hbt6oLh",
        "outputId": "9eac6979-a44b-4e7d-9007-e54671e2601f"
      },
      "source": [
        "df_pib.head()"
      ],
      "execution_count": null,
      "outputs": [
        {
          "output_type": "execute_result",
          "data": {
            "text/html": [
              "<div>\n",
              "<style scoped>\n",
              "    .dataframe tbody tr th:only-of-type {\n",
              "        vertical-align: middle;\n",
              "    }\n",
              "\n",
              "    .dataframe tbody tr th {\n",
              "        vertical-align: top;\n",
              "    }\n",
              "\n",
              "    .dataframe thead th {\n",
              "        text-align: right;\n",
              "    }\n",
              "</style>\n",
              "<table border=\"1\" class=\"dataframe\">\n",
              "  <thead>\n",
              "    <tr style=\"text-align: right;\">\n",
              "      <th></th>\n",
              "      <th>Municípios</th>\n",
              "      <th>2002</th>\n",
              "      <th>2003</th>\n",
              "      <th>2004</th>\n",
              "      <th>2005</th>\n",
              "      <th>2006</th>\n",
              "      <th>2007</th>\n",
              "      <th>2008</th>\n",
              "      <th>2009</th>\n",
              "      <th>2010</th>\n",
              "      <th>2011</th>\n",
              "      <th>2012</th>\n",
              "      <th>2013</th>\n",
              "      <th>2014</th>\n",
              "      <th>2015</th>\n",
              "      <th>2016</th>\n",
              "      <th>2017</th>\n",
              "    </tr>\n",
              "    <tr>\n",
              "      <th>Código</th>\n",
              "      <th></th>\n",
              "      <th></th>\n",
              "      <th></th>\n",
              "      <th></th>\n",
              "      <th></th>\n",
              "      <th></th>\n",
              "      <th></th>\n",
              "      <th></th>\n",
              "      <th></th>\n",
              "      <th></th>\n",
              "      <th></th>\n",
              "      <th></th>\n",
              "      <th></th>\n",
              "      <th></th>\n",
              "      <th></th>\n",
              "      <th></th>\n",
              "      <th></th>\n",
              "    </tr>\n",
              "  </thead>\n",
              "  <tbody>\n",
              "    <tr>\n",
              "      <th>1100015</th>\n",
              "      <td>Alta Floresta D'Oeste</td>\n",
              "      <td>111291.00</td>\n",
              "      <td>143222.38</td>\n",
              "      <td>173990.79</td>\n",
              "      <td>167127.36</td>\n",
              "      <td>168805.06</td>\n",
              "      <td>191364.33</td>\n",
              "      <td>248961.79</td>\n",
              "      <td>256986.14</td>\n",
              "      <td>262076.88</td>\n",
              "      <td>280509.58</td>\n",
              "      <td>329029.48</td>\n",
              "      <td>341324.69</td>\n",
              "      <td>377799.00</td>\n",
              "      <td>421299.98</td>\n",
              "      <td>478216.98</td>\n",
              "      <td>498864.19</td>\n",
              "    </tr>\n",
              "    <tr>\n",
              "      <th>1100023</th>\n",
              "      <td>Ariquemes</td>\n",
              "      <td>449592.82</td>\n",
              "      <td>539636.21</td>\n",
              "      <td>657193.23</td>\n",
              "      <td>749021.19</td>\n",
              "      <td>790696.63</td>\n",
              "      <td>905202.63</td>\n",
              "      <td>1064821.96</td>\n",
              "      <td>1133094.86</td>\n",
              "      <td>1364693.78</td>\n",
              "      <td>1651885.02</td>\n",
              "      <td>1703641.94</td>\n",
              "      <td>1799852.51</td>\n",
              "      <td>1921531.62</td>\n",
              "      <td>2037798.61</td>\n",
              "      <td>2184346.10</td>\n",
              "      <td>2296073.71</td>\n",
              "    </tr>\n",
              "    <tr>\n",
              "      <th>1100031</th>\n",
              "      <td>Cabixi</td>\n",
              "      <td>31767.52</td>\n",
              "      <td>40984.57</td>\n",
              "      <td>43392.50</td>\n",
              "      <td>49129.64</td>\n",
              "      <td>46883.82</td>\n",
              "      <td>49165.76</td>\n",
              "      <td>60587.71</td>\n",
              "      <td>69776.00</td>\n",
              "      <td>69611.11</td>\n",
              "      <td>77217.19</td>\n",
              "      <td>99586.48</td>\n",
              "      <td>96364.54</td>\n",
              "      <td>113477.40</td>\n",
              "      <td>116565.18</td>\n",
              "      <td>133342.25</td>\n",
              "      <td>138893.55</td>\n",
              "    </tr>\n",
              "    <tr>\n",
              "      <th>1100049</th>\n",
              "      <td>Cacoal</td>\n",
              "      <td>474443.10</td>\n",
              "      <td>622437.19</td>\n",
              "      <td>622414.64</td>\n",
              "      <td>758959.55</td>\n",
              "      <td>743193.72</td>\n",
              "      <td>814890.27</td>\n",
              "      <td>928698.70</td>\n",
              "      <td>985478.84</td>\n",
              "      <td>1186494.09</td>\n",
              "      <td>1259024.29</td>\n",
              "      <td>1372705.09</td>\n",
              "      <td>1433253.51</td>\n",
              "      <td>1660649.61</td>\n",
              "      <td>1794477.51</td>\n",
              "      <td>1947282.54</td>\n",
              "      <td>2127523.25</td>\n",
              "    </tr>\n",
              "    <tr>\n",
              "      <th>1100056</th>\n",
              "      <td>Cerejeiras</td>\n",
              "      <td>79173.61</td>\n",
              "      <td>99983.39</td>\n",
              "      <td>121365.67</td>\n",
              "      <td>129106.97</td>\n",
              "      <td>124414.95</td>\n",
              "      <td>143269.95</td>\n",
              "      <td>167474.35</td>\n",
              "      <td>190902.13</td>\n",
              "      <td>222021.19</td>\n",
              "      <td>260142.10</td>\n",
              "      <td>357333.00</td>\n",
              "      <td>353269.68</td>\n",
              "      <td>392416.84</td>\n",
              "      <td>397736.13</td>\n",
              "      <td>408193.83</td>\n",
              "      <td>448524.17</td>\n",
              "    </tr>\n",
              "  </tbody>\n",
              "</table>\n",
              "</div>"
            ],
            "text/plain": [
              "                    Municípios       2002  ...        2016        2017\n",
              "Código                                     ...                        \n",
              "1100015  Alta Floresta D'Oeste  111291.00  ...   478216.98   498864.19\n",
              "1100023              Ariquemes  449592.82  ...  2184346.10  2296073.71\n",
              "1100031                 Cabixi   31767.52  ...   133342.25   138893.55\n",
              "1100049                 Cacoal  474443.10  ...  1947282.54  2127523.25\n",
              "1100056             Cerejeiras   79173.61  ...   408193.83   448524.17\n",
              "\n",
              "[5 rows x 17 columns]"
            ]
          },
          "metadata": {
            "tags": []
          },
          "execution_count": 19
        }
      ]
    },
    {
      "cell_type": "code",
      "metadata": {
        "colab": {
          "base_uri": "https://localhost:8080/"
        },
        "id": "jyQ4J8vqkaKW",
        "outputId": "c1d10d24-afb4-40f8-fd73-24a72bd5a204"
      },
      "source": [
        "## Unidades Empresariais - Novo\n",
        "index = 10\n",
        "name_worksheet_aux = ibge_data_total.worksheets()[index].title\n",
        "worksheet_aux = ibge_data_total.get_worksheet(index) \n",
        "data = worksheet_aux.get_all_values()[2:]\n",
        "headers = data.pop(0)\n",
        "df_empresas = pd.DataFrame(data, columns=headers)\n",
        "df_empresas = df_empresas.replace('...', np.nan)\n",
        "df_empresas = df_empresas.set_index('Código')\n",
        "for i in df_empresas.columns:\n",
        "  if ('20' in i) or ('19' in i):\n",
        "    df_empresas[i] = df_empresas[i].astype('float64')\n",
        "df_empresas.head(3)"
      ],
      "execution_count": null,
      "outputs": [
        {
          "output_type": "execute_result",
          "data": {
            "text/html": [
              "<div>\n",
              "<style scoped>\n",
              "    .dataframe tbody tr th:only-of-type {\n",
              "        vertical-align: middle;\n",
              "    }\n",
              "\n",
              "    .dataframe tbody tr th {\n",
              "        vertical-align: top;\n",
              "    }\n",
              "\n",
              "    .dataframe thead th {\n",
              "        text-align: right;\n",
              "    }\n",
              "</style>\n",
              "<table border=\"1\" class=\"dataframe\">\n",
              "  <thead>\n",
              "    <tr style=\"text-align: right;\">\n",
              "      <th></th>\n",
              "      <th>Municípios</th>\n",
              "      <th>2006</th>\n",
              "      <th>2007</th>\n",
              "      <th>2008</th>\n",
              "      <th>2009</th>\n",
              "      <th>2010</th>\n",
              "      <th>2011</th>\n",
              "      <th>2012</th>\n",
              "      <th>2013</th>\n",
              "      <th>2014</th>\n",
              "      <th>2015</th>\n",
              "      <th>2016</th>\n",
              "      <th>2017</th>\n",
              "      <th>2018</th>\n",
              "    </tr>\n",
              "    <tr>\n",
              "      <th>Código</th>\n",
              "      <th></th>\n",
              "      <th></th>\n",
              "      <th></th>\n",
              "      <th></th>\n",
              "      <th></th>\n",
              "      <th></th>\n",
              "      <th></th>\n",
              "      <th></th>\n",
              "      <th></th>\n",
              "      <th></th>\n",
              "      <th></th>\n",
              "      <th></th>\n",
              "      <th></th>\n",
              "      <th></th>\n",
              "    </tr>\n",
              "  </thead>\n",
              "  <tbody>\n",
              "    <tr>\n",
              "      <th>1100015</th>\n",
              "      <td>Alta Floresta D'Oeste (RO)</td>\n",
              "      <td>453.0</td>\n",
              "      <td>364.0</td>\n",
              "      <td>459.0</td>\n",
              "      <td>441.0</td>\n",
              "      <td>460.0</td>\n",
              "      <td>522.0</td>\n",
              "      <td>617.0</td>\n",
              "      <td>564.0</td>\n",
              "      <td>498.0</td>\n",
              "      <td>461.0</td>\n",
              "      <td>508.0</td>\n",
              "      <td>549.0</td>\n",
              "      <td>478.0</td>\n",
              "    </tr>\n",
              "    <tr>\n",
              "      <th>1100023</th>\n",
              "      <td>Ariquemes (RO)</td>\n",
              "      <td>1614.0</td>\n",
              "      <td>1596.0</td>\n",
              "      <td>1840.0</td>\n",
              "      <td>1973.0</td>\n",
              "      <td>2075.0</td>\n",
              "      <td>1888.0</td>\n",
              "      <td>2048.0</td>\n",
              "      <td>2171.0</td>\n",
              "      <td>2147.0</td>\n",
              "      <td>2251.0</td>\n",
              "      <td>2221.0</td>\n",
              "      <td>2233.0</td>\n",
              "      <td>2252.0</td>\n",
              "    </tr>\n",
              "    <tr>\n",
              "      <th>1100031</th>\n",
              "      <td>Cabixi (RO)</td>\n",
              "      <td>63.0</td>\n",
              "      <td>81.0</td>\n",
              "      <td>73.0</td>\n",
              "      <td>50.0</td>\n",
              "      <td>114.0</td>\n",
              "      <td>88.0</td>\n",
              "      <td>91.0</td>\n",
              "      <td>68.0</td>\n",
              "      <td>77.0</td>\n",
              "      <td>65.0</td>\n",
              "      <td>60.0</td>\n",
              "      <td>65.0</td>\n",
              "      <td>66.0</td>\n",
              "    </tr>\n",
              "  </tbody>\n",
              "</table>\n",
              "</div>"
            ],
            "text/plain": [
              "                         Municípios    2006    2007  ...    2016    2017    2018\n",
              "Código                                               ...                        \n",
              "1100015  Alta Floresta D'Oeste (RO)   453.0   364.0  ...   508.0   549.0   478.0\n",
              "1100023              Ariquemes (RO)  1614.0  1596.0  ...  2221.0  2233.0  2252.0\n",
              "1100031                 Cabixi (RO)    63.0    81.0  ...    60.0    65.0    66.0\n",
              "\n",
              "[3 rows x 14 columns]"
            ]
          },
          "metadata": {
            "tags": []
          },
          "execution_count": 20
        }
      ]
    },
    {
      "cell_type": "code",
      "metadata": {
        "colab": {
          "base_uri": "https://localhost:8080/"
        },
        "id": "OIms4lNtmoaH",
        "outputId": "0ecd7da6-17bc-4ded-9e86-faff5a97bdd6"
      },
      "source": [
        "## Pessoas Empregadas\n",
        "index = 11\n",
        "name_worksheet_aux = ibge_data_total.worksheets()[index].title\n",
        "worksheet_aux = ibge_data_total.get_worksheet(index) \n",
        "data = worksheet_aux.get_all_values()[2:]\n",
        "headers = data.pop(0)\n",
        "df_empregadas = pd.DataFrame(data, columns=headers)\n",
        "df_empregadas = df_empregadas.replace('...', np.nan)\n",
        "df_empregadas = df_empregadas.replace('X', np.nan)\n",
        "df_empregadas = df_empregadas.replace('-', np.nan)\n",
        "df_empregadas = df_empregadas.replace('', np.nan)\n",
        "df_empregadas = df_empregadas.set_index('Código')\n",
        "for i in df_empregadas.columns:\n",
        "  if ('20' in i) or ('19' in i):\n",
        "    df_empregadas[i] = df_empregadas[i].astype('float64')\n",
        "df_empregadas.head(3)"
      ],
      "execution_count": null,
      "outputs": [
        {
          "output_type": "execute_result",
          "data": {
            "text/html": [
              "<div>\n",
              "<style scoped>\n",
              "    .dataframe tbody tr th:only-of-type {\n",
              "        vertical-align: middle;\n",
              "    }\n",
              "\n",
              "    .dataframe tbody tr th {\n",
              "        vertical-align: top;\n",
              "    }\n",
              "\n",
              "    .dataframe thead th {\n",
              "        text-align: right;\n",
              "    }\n",
              "</style>\n",
              "<table border=\"1\" class=\"dataframe\">\n",
              "  <thead>\n",
              "    <tr style=\"text-align: right;\">\n",
              "      <th></th>\n",
              "      <th>Municípios</th>\n",
              "      <th>2006</th>\n",
              "      <th>2007</th>\n",
              "      <th>2008</th>\n",
              "      <th>2009</th>\n",
              "      <th>2010</th>\n",
              "      <th>2011</th>\n",
              "      <th>2012</th>\n",
              "      <th>2013</th>\n",
              "      <th>2014</th>\n",
              "      <th>2015</th>\n",
              "      <th>2016</th>\n",
              "      <th>2017</th>\n",
              "      <th>2018</th>\n",
              "    </tr>\n",
              "    <tr>\n",
              "      <th>Código</th>\n",
              "      <th></th>\n",
              "      <th></th>\n",
              "      <th></th>\n",
              "      <th></th>\n",
              "      <th></th>\n",
              "      <th></th>\n",
              "      <th></th>\n",
              "      <th></th>\n",
              "      <th></th>\n",
              "      <th></th>\n",
              "      <th></th>\n",
              "      <th></th>\n",
              "      <th></th>\n",
              "      <th></th>\n",
              "    </tr>\n",
              "  </thead>\n",
              "  <tbody>\n",
              "    <tr>\n",
              "      <th>1100015</th>\n",
              "      <td>Alta Floresta D'Oeste (RO)</td>\n",
              "      <td>2138.0</td>\n",
              "      <td>2170.0</td>\n",
              "      <td>2294.0</td>\n",
              "      <td>2487.0</td>\n",
              "      <td>2626.0</td>\n",
              "      <td>2721.0</td>\n",
              "      <td>2804.0</td>\n",
              "      <td>3262.0</td>\n",
              "      <td>3110.0</td>\n",
              "      <td>3028.0</td>\n",
              "      <td>3299.0</td>\n",
              "      <td>3255.0</td>\n",
              "      <td>3156.0</td>\n",
              "    </tr>\n",
              "    <tr>\n",
              "      <th>1100023</th>\n",
              "      <td>Ariquemes (RO)</td>\n",
              "      <td>12490.0</td>\n",
              "      <td>13371.0</td>\n",
              "      <td>15453.0</td>\n",
              "      <td>16552.0</td>\n",
              "      <td>16572.0</td>\n",
              "      <td>17594.0</td>\n",
              "      <td>18424.0</td>\n",
              "      <td>19382.0</td>\n",
              "      <td>19420.0</td>\n",
              "      <td>19102.0</td>\n",
              "      <td>18488.0</td>\n",
              "      <td>18876.0</td>\n",
              "      <td>19002.0</td>\n",
              "    </tr>\n",
              "    <tr>\n",
              "      <th>1100031</th>\n",
              "      <td>Cabixi (RO)</td>\n",
              "      <td>362.0</td>\n",
              "      <td>407.0</td>\n",
              "      <td>363.0</td>\n",
              "      <td>450.0</td>\n",
              "      <td>486.0</td>\n",
              "      <td>468.0</td>\n",
              "      <td>553.0</td>\n",
              "      <td>513.0</td>\n",
              "      <td>503.0</td>\n",
              "      <td>514.0</td>\n",
              "      <td>590.0</td>\n",
              "      <td>582.0</td>\n",
              "      <td>533.0</td>\n",
              "    </tr>\n",
              "  </tbody>\n",
              "</table>\n",
              "</div>"
            ],
            "text/plain": [
              "                         Municípios     2006  ...     2017     2018\n",
              "Código                                        ...                  \n",
              "1100015  Alta Floresta D'Oeste (RO)   2138.0  ...   3255.0   3156.0\n",
              "1100023              Ariquemes (RO)  12490.0  ...  18876.0  19002.0\n",
              "1100031                 Cabixi (RO)    362.0  ...    582.0    533.0\n",
              "\n",
              "[3 rows x 14 columns]"
            ]
          },
          "metadata": {
            "tags": []
          },
          "execution_count": 21
        }
      ]
    },
    {
      "cell_type": "code",
      "metadata": {
        "colab": {
          "base_uri": "https://localhost:8080/"
        },
        "id": "DIlVTu_-mylX",
        "outputId": "614a9e6c-aa4f-4a7c-bd38-3beb2f1c4742"
      },
      "source": [
        "## Pessoas Assalariadas\n",
        "index = 12\n",
        "name_worksheet_aux = ibge_data_total.worksheets()[index].title\n",
        "worksheet_aux = ibge_data_total.get_worksheet(index) \n",
        "data = worksheet_aux.get_all_values()[2:]\n",
        "headers = data.pop(0)\n",
        "df_assalariadas = pd.DataFrame(data, columns=headers)\n",
        "df_assalariadas = df_assalariadas.replace('...', np.nan)\n",
        "df_assalariadas = df_assalariadas.replace('X', np.nan)\n",
        "df_assalariadas = df_assalariadas.replace('-', np.nan)\n",
        "df_assalariadas = df_assalariadas.replace('', np.nan)\n",
        "df_assalariadas = df_assalariadas.set_index('Código')\n",
        "for i in df_assalariadas.columns:\n",
        "  if ('20' in i) or ('19' in i):\n",
        "    df_assalariadas[i] = df_assalariadas[i].astype('float64')\n",
        "df_assalariadas.head(3)"
      ],
      "execution_count": null,
      "outputs": [
        {
          "output_type": "execute_result",
          "data": {
            "text/html": [
              "<div>\n",
              "<style scoped>\n",
              "    .dataframe tbody tr th:only-of-type {\n",
              "        vertical-align: middle;\n",
              "    }\n",
              "\n",
              "    .dataframe tbody tr th {\n",
              "        vertical-align: top;\n",
              "    }\n",
              "\n",
              "    .dataframe thead th {\n",
              "        text-align: right;\n",
              "    }\n",
              "</style>\n",
              "<table border=\"1\" class=\"dataframe\">\n",
              "  <thead>\n",
              "    <tr style=\"text-align: right;\">\n",
              "      <th></th>\n",
              "      <th>Municípios</th>\n",
              "      <th>2006</th>\n",
              "      <th>2007</th>\n",
              "      <th>2008</th>\n",
              "      <th>2009</th>\n",
              "      <th>2010</th>\n",
              "      <th>2011</th>\n",
              "      <th>2012</th>\n",
              "      <th>2013</th>\n",
              "      <th>2014</th>\n",
              "      <th>2015</th>\n",
              "      <th>2016</th>\n",
              "      <th>2017</th>\n",
              "      <th>2018</th>\n",
              "    </tr>\n",
              "    <tr>\n",
              "      <th>Código</th>\n",
              "      <th></th>\n",
              "      <th></th>\n",
              "      <th></th>\n",
              "      <th></th>\n",
              "      <th></th>\n",
              "      <th></th>\n",
              "      <th></th>\n",
              "      <th></th>\n",
              "      <th></th>\n",
              "      <th></th>\n",
              "      <th></th>\n",
              "      <th></th>\n",
              "      <th></th>\n",
              "      <th></th>\n",
              "    </tr>\n",
              "  </thead>\n",
              "  <tbody>\n",
              "    <tr>\n",
              "      <th>1100015</th>\n",
              "      <td>Alta Floresta D'Oeste (RO)</td>\n",
              "      <td>1673.0</td>\n",
              "      <td>1666.0</td>\n",
              "      <td>1722.0</td>\n",
              "      <td>1866.0</td>\n",
              "      <td>2087.0</td>\n",
              "      <td>2099.0</td>\n",
              "      <td>2120.0</td>\n",
              "      <td>2652.0</td>\n",
              "      <td>2485.0</td>\n",
              "      <td>2446.0</td>\n",
              "      <td>2625.0</td>\n",
              "      <td>2511.0</td>\n",
              "      <td>2487.0</td>\n",
              "    </tr>\n",
              "    <tr>\n",
              "      <th>1100023</th>\n",
              "      <td>Ariquemes (RO)</td>\n",
              "      <td>10244.0</td>\n",
              "      <td>11061.0</td>\n",
              "      <td>12726.0</td>\n",
              "      <td>13751.0</td>\n",
              "      <td>13605.0</td>\n",
              "      <td>14905.0</td>\n",
              "      <td>15545.0</td>\n",
              "      <td>16322.0</td>\n",
              "      <td>16350.0</td>\n",
              "      <td>15886.0</td>\n",
              "      <td>15280.0</td>\n",
              "      <td>15641.0</td>\n",
              "      <td>15678.0</td>\n",
              "    </tr>\n",
              "    <tr>\n",
              "      <th>1100031</th>\n",
              "      <td>Cabixi (RO)</td>\n",
              "      <td>293.0</td>\n",
              "      <td>325.0</td>\n",
              "      <td>303.0</td>\n",
              "      <td>391.0</td>\n",
              "      <td>379.0</td>\n",
              "      <td>403.0</td>\n",
              "      <td>440.0</td>\n",
              "      <td>454.0</td>\n",
              "      <td>429.0</td>\n",
              "      <td>436.0</td>\n",
              "      <td>485.0</td>\n",
              "      <td>490.0</td>\n",
              "      <td>464.0</td>\n",
              "    </tr>\n",
              "  </tbody>\n",
              "</table>\n",
              "</div>"
            ],
            "text/plain": [
              "                         Municípios     2006  ...     2017     2018\n",
              "Código                                        ...                  \n",
              "1100015  Alta Floresta D'Oeste (RO)   1673.0  ...   2511.0   2487.0\n",
              "1100023              Ariquemes (RO)  10244.0  ...  15641.0  15678.0\n",
              "1100031                 Cabixi (RO)    293.0  ...    490.0    464.0\n",
              "\n",
              "[3 rows x 14 columns]"
            ]
          },
          "metadata": {
            "tags": []
          },
          "execution_count": 22
        }
      ]
    },
    {
      "cell_type": "code",
      "metadata": {
        "colab": {
          "base_uri": "https://localhost:8080/"
        },
        "id": "-pt_g5fzpLnx",
        "outputId": "a7a841ee-50c9-4e7e-deb3-76d984756084"
      },
      "source": [
        "## Produto Interno Bruto a preços correntes (Mil Reais)\n",
        "index = 13\n",
        "name_worksheet_aux = ibge_data_total.worksheets()[index].title\n",
        "worksheet_aux = ibge_data_total.get_worksheet(index) \n",
        "data = worksheet_aux.get_all_values()[3:]\n",
        "headers = data.pop(0)\n",
        "df_pib_correntes_1 = pd.DataFrame(data, columns=headers)\n",
        "df_pib_correntes_1 = df_pib_correntes_1.replace('...', np.nan)\n",
        "df_pib_correntes_1 = df_pib_correntes_1.set_index('Código')\n",
        "for i in df_pib_correntes_1.columns:\n",
        "  if ('20' in i) or ('19' in i):\n",
        "    df_pib_correntes_1[i] = df_pib_correntes_1[i].astype('float64')\n",
        "df_pib_correntes_1.head(3)"
      ],
      "execution_count": null,
      "outputs": [
        {
          "output_type": "execute_result",
          "data": {
            "text/html": [
              "<div>\n",
              "<style scoped>\n",
              "    .dataframe tbody tr th:only-of-type {\n",
              "        vertical-align: middle;\n",
              "    }\n",
              "\n",
              "    .dataframe tbody tr th {\n",
              "        vertical-align: top;\n",
              "    }\n",
              "\n",
              "    .dataframe thead th {\n",
              "        text-align: right;\n",
              "    }\n",
              "</style>\n",
              "<table border=\"1\" class=\"dataframe\">\n",
              "  <thead>\n",
              "    <tr style=\"text-align: right;\">\n",
              "      <th></th>\n",
              "      <th>Municípios</th>\n",
              "      <th>2002</th>\n",
              "      <th>2003</th>\n",
              "      <th>2004</th>\n",
              "      <th>2005</th>\n",
              "      <th>2006</th>\n",
              "      <th>2007</th>\n",
              "      <th>2008</th>\n",
              "      <th>2009</th>\n",
              "      <th>2010</th>\n",
              "      <th>2011</th>\n",
              "      <th>2012</th>\n",
              "      <th>2013</th>\n",
              "      <th>2014</th>\n",
              "      <th>2015</th>\n",
              "      <th>2016</th>\n",
              "      <th>2017</th>\n",
              "    </tr>\n",
              "    <tr>\n",
              "      <th>Código</th>\n",
              "      <th></th>\n",
              "      <th></th>\n",
              "      <th></th>\n",
              "      <th></th>\n",
              "      <th></th>\n",
              "      <th></th>\n",
              "      <th></th>\n",
              "      <th></th>\n",
              "      <th></th>\n",
              "      <th></th>\n",
              "      <th></th>\n",
              "      <th></th>\n",
              "      <th></th>\n",
              "      <th></th>\n",
              "      <th></th>\n",
              "      <th></th>\n",
              "      <th></th>\n",
              "    </tr>\n",
              "  </thead>\n",
              "  <tbody>\n",
              "    <tr>\n",
              "      <th>1</th>\n",
              "      <td>Brasil</td>\n",
              "      <td>1.488787e+09</td>\n",
              "      <td>1.717950e+09</td>\n",
              "      <td>1.957751e+09</td>\n",
              "      <td>2.170585e+09</td>\n",
              "      <td>2.409450e+09</td>\n",
              "      <td>2.720263e+09</td>\n",
              "      <td>3.109803e+09</td>\n",
              "      <td>3.333039e+09</td>\n",
              "      <td>3.885847e+09</td>\n",
              "      <td>4.376382e+09</td>\n",
              "      <td>4.814760e+09</td>\n",
              "      <td>5.331619e+09</td>\n",
              "      <td>5.778953e+09</td>\n",
              "      <td>5.995787e+09</td>\n",
              "      <td>6.269328e+09</td>\n",
              "      <td>6.583319e+09</td>\n",
              "    </tr>\n",
              "    <tr>\n",
              "      <th>1100015</th>\n",
              "      <td>Alta Floresta D'Oeste (RO)</td>\n",
              "      <td>1.112910e+05</td>\n",
              "      <td>1.432220e+05</td>\n",
              "      <td>1.739910e+05</td>\n",
              "      <td>1.671270e+05</td>\n",
              "      <td>1.688050e+05</td>\n",
              "      <td>1.913640e+05</td>\n",
              "      <td>2.489620e+05</td>\n",
              "      <td>2.569860e+05</td>\n",
              "      <td>2.620770e+05</td>\n",
              "      <td>2.805100e+05</td>\n",
              "      <td>3.290290e+05</td>\n",
              "      <td>3.413250e+05</td>\n",
              "      <td>3.777990e+05</td>\n",
              "      <td>4.213000e+05</td>\n",
              "      <td>4.782170e+05</td>\n",
              "      <td>4.988640e+05</td>\n",
              "    </tr>\n",
              "    <tr>\n",
              "      <th>1100023</th>\n",
              "      <td>Ariquemes (RO)</td>\n",
              "      <td>4.495930e+05</td>\n",
              "      <td>5.396360e+05</td>\n",
              "      <td>6.571930e+05</td>\n",
              "      <td>7.490210e+05</td>\n",
              "      <td>7.906970e+05</td>\n",
              "      <td>9.052030e+05</td>\n",
              "      <td>1.064822e+06</td>\n",
              "      <td>1.133095e+06</td>\n",
              "      <td>1.364694e+06</td>\n",
              "      <td>1.651885e+06</td>\n",
              "      <td>1.703642e+06</td>\n",
              "      <td>1.799853e+06</td>\n",
              "      <td>1.921532e+06</td>\n",
              "      <td>2.037799e+06</td>\n",
              "      <td>2.184346e+06</td>\n",
              "      <td>2.296074e+06</td>\n",
              "    </tr>\n",
              "  </tbody>\n",
              "</table>\n",
              "</div>"
            ],
            "text/plain": [
              "                         Municípios          2002  ...          2016          2017\n",
              "Código                                             ...                            \n",
              "1                            Brasil  1.488787e+09  ...  6.269328e+09  6.583319e+09\n",
              "1100015  Alta Floresta D'Oeste (RO)  1.112910e+05  ...  4.782170e+05  4.988640e+05\n",
              "1100023              Ariquemes (RO)  4.495930e+05  ...  2.184346e+06  2.296074e+06\n",
              "\n",
              "[3 rows x 17 columns]"
            ]
          },
          "metadata": {
            "tags": []
          },
          "execution_count": 23
        }
      ]
    },
    {
      "cell_type": "code",
      "metadata": {
        "colab": {
          "base_uri": "https://localhost:8080/"
        },
        "id": "rbhegX_spcQv",
        "outputId": "caf8fd1f-a789-4273-f7b7-02760239d0c6"
      },
      "source": [
        "#Variável - Valor adicionado bruto a preços correntes da agropecuária (Mil Reais)\n",
        "index = 14\n",
        "name_worksheet_aux = ibge_data_total.worksheets()[index].title\n",
        "worksheet_aux = ibge_data_total.get_worksheet(index) \n",
        "data = worksheet_aux.get_all_values()[3:]\n",
        "headers = data.pop(0)\n",
        "df_pib_agropecuaria = pd.DataFrame(data, columns=headers)\n",
        "df_pib_agropecuaria = df_pib_agropecuaria.replace('...', np.nan)\n",
        "df_pib_agropecuaria = df_pib_agropecuaria.set_index('Código')\n",
        "for i in df_pib_agropecuaria.columns:\n",
        "  if ('20' in i) or ('19' in i):\n",
        "    df_pib_agropecuaria[i] = df_pib_agropecuaria[i].astype('float64')\n",
        "df_pib_agropecuaria.head(3)"
      ],
      "execution_count": null,
      "outputs": [
        {
          "output_type": "execute_result",
          "data": {
            "text/html": [
              "<div>\n",
              "<style scoped>\n",
              "    .dataframe tbody tr th:only-of-type {\n",
              "        vertical-align: middle;\n",
              "    }\n",
              "\n",
              "    .dataframe tbody tr th {\n",
              "        vertical-align: top;\n",
              "    }\n",
              "\n",
              "    .dataframe thead th {\n",
              "        text-align: right;\n",
              "    }\n",
              "</style>\n",
              "<table border=\"1\" class=\"dataframe\">\n",
              "  <thead>\n",
              "    <tr style=\"text-align: right;\">\n",
              "      <th></th>\n",
              "      <th>Municípios</th>\n",
              "      <th>2002</th>\n",
              "      <th>2003</th>\n",
              "      <th>2004</th>\n",
              "      <th>2005</th>\n",
              "      <th>2006</th>\n",
              "      <th>2007</th>\n",
              "      <th>2008</th>\n",
              "      <th>2009</th>\n",
              "      <th>2010</th>\n",
              "      <th>2011</th>\n",
              "      <th>2012</th>\n",
              "      <th>2013</th>\n",
              "      <th>2014</th>\n",
              "      <th>2015</th>\n",
              "      <th>2016</th>\n",
              "      <th>2017</th>\n",
              "    </tr>\n",
              "    <tr>\n",
              "      <th>Código</th>\n",
              "      <th></th>\n",
              "      <th></th>\n",
              "      <th></th>\n",
              "      <th></th>\n",
              "      <th></th>\n",
              "      <th></th>\n",
              "      <th></th>\n",
              "      <th></th>\n",
              "      <th></th>\n",
              "      <th></th>\n",
              "      <th></th>\n",
              "      <th></th>\n",
              "      <th></th>\n",
              "      <th></th>\n",
              "      <th></th>\n",
              "      <th></th>\n",
              "      <th></th>\n",
              "    </tr>\n",
              "  </thead>\n",
              "  <tbody>\n",
              "    <tr>\n",
              "      <th>1</th>\n",
              "      <td>Brasil</td>\n",
              "      <td>81515199.0</td>\n",
              "      <td>105949165.0</td>\n",
              "      <td>110912703.0</td>\n",
              "      <td>100957547.0</td>\n",
              "      <td>105294011.0</td>\n",
              "      <td>120151715.0</td>\n",
              "      <td>142051182.0</td>\n",
              "      <td>149212635.0</td>\n",
              "      <td>159932000.0</td>\n",
              "      <td>190024000.0</td>\n",
              "      <td>200695000.0</td>\n",
              "      <td>240290000.0</td>\n",
              "      <td>249975000.0</td>\n",
              "      <td>258967000.0</td>\n",
              "      <td>306655000.0</td>\n",
              "      <td>302971000.0</td>\n",
              "    </tr>\n",
              "    <tr>\n",
              "      <th>1100015</th>\n",
              "      <td>Alta Floresta D'Oeste (RO)</td>\n",
              "      <td>27013.0</td>\n",
              "      <td>41079.0</td>\n",
              "      <td>41413.0</td>\n",
              "      <td>41524.0</td>\n",
              "      <td>39469.0</td>\n",
              "      <td>52003.0</td>\n",
              "      <td>77093.0</td>\n",
              "      <td>77002.0</td>\n",
              "      <td>69260.0</td>\n",
              "      <td>73328.0</td>\n",
              "      <td>106125.0</td>\n",
              "      <td>110851.0</td>\n",
              "      <td>122731.0</td>\n",
              "      <td>146407.0</td>\n",
              "      <td>166143.0</td>\n",
              "      <td>169623.0</td>\n",
              "    </tr>\n",
              "    <tr>\n",
              "      <th>1100023</th>\n",
              "      <td>Ariquemes (RO)</td>\n",
              "      <td>28590.0</td>\n",
              "      <td>47308.0</td>\n",
              "      <td>46853.0</td>\n",
              "      <td>46367.0</td>\n",
              "      <td>42170.0</td>\n",
              "      <td>47866.0</td>\n",
              "      <td>64917.0</td>\n",
              "      <td>67707.0</td>\n",
              "      <td>73712.0</td>\n",
              "      <td>80517.0</td>\n",
              "      <td>96495.0</td>\n",
              "      <td>93250.0</td>\n",
              "      <td>110862.0</td>\n",
              "      <td>129657.0</td>\n",
              "      <td>145069.0</td>\n",
              "      <td>165217.0</td>\n",
              "    </tr>\n",
              "  </tbody>\n",
              "</table>\n",
              "</div>"
            ],
            "text/plain": [
              "                         Municípios        2002  ...         2016         2017\n",
              "Código                                           ...                          \n",
              "1                            Brasil  81515199.0  ...  306655000.0  302971000.0\n",
              "1100015  Alta Floresta D'Oeste (RO)     27013.0  ...     166143.0     169623.0\n",
              "1100023              Ariquemes (RO)     28590.0  ...     145069.0     165217.0\n",
              "\n",
              "[3 rows x 17 columns]"
            ]
          },
          "metadata": {
            "tags": []
          },
          "execution_count": 24
        }
      ]
    },
    {
      "cell_type": "code",
      "metadata": {
        "colab": {
          "base_uri": "https://localhost:8080/"
        },
        "id": "mgCmuXNxpjeS",
        "outputId": "bae88216-c24e-4c9f-b726-01c839edbd32"
      },
      "source": [
        "#Variável - Valor adicionado bruto a preços correntes da indústria (Mil Reais)\n",
        "index = 15\n",
        "name_worksheet_aux = ibge_data_total.worksheets()[index].title\n",
        "worksheet_aux = ibge_data_total.get_worksheet(index) \n",
        "data = worksheet_aux.get_all_values()[3:]\n",
        "headers = data.pop(0)\n",
        "df_pib_industria = pd.DataFrame(data, columns=headers)\n",
        "df_pib_industria = df_pib_industria.replace('...', np.nan)\n",
        "df_pib_industria = df_pib_industria.set_index('Código')\n",
        "for i in df_pib_industria.columns:\n",
        "  if ('20' in i) or ('19' in i):\n",
        "    df_pib_industria[i] = df_pib_industria[i].astype('float64')\n",
        "df_pib_industria.head(3)"
      ],
      "execution_count": null,
      "outputs": [
        {
          "output_type": "execute_result",
          "data": {
            "text/html": [
              "<div>\n",
              "<style scoped>\n",
              "    .dataframe tbody tr th:only-of-type {\n",
              "        vertical-align: middle;\n",
              "    }\n",
              "\n",
              "    .dataframe tbody tr th {\n",
              "        vertical-align: top;\n",
              "    }\n",
              "\n",
              "    .dataframe thead th {\n",
              "        text-align: right;\n",
              "    }\n",
              "</style>\n",
              "<table border=\"1\" class=\"dataframe\">\n",
              "  <thead>\n",
              "    <tr style=\"text-align: right;\">\n",
              "      <th></th>\n",
              "      <th>Municípios</th>\n",
              "      <th>2002</th>\n",
              "      <th>2003</th>\n",
              "      <th>2004</th>\n",
              "      <th>2005</th>\n",
              "      <th>2006</th>\n",
              "      <th>2007</th>\n",
              "      <th>2008</th>\n",
              "      <th>2009</th>\n",
              "      <th>2010</th>\n",
              "      <th>2011</th>\n",
              "      <th>2012</th>\n",
              "      <th>2013</th>\n",
              "      <th>2014</th>\n",
              "      <th>2015</th>\n",
              "      <th>2016</th>\n",
              "      <th>2017</th>\n",
              "    </tr>\n",
              "    <tr>\n",
              "      <th>Código</th>\n",
              "      <th></th>\n",
              "      <th></th>\n",
              "      <th></th>\n",
              "      <th></th>\n",
              "      <th></th>\n",
              "      <th></th>\n",
              "      <th></th>\n",
              "      <th></th>\n",
              "      <th></th>\n",
              "      <th></th>\n",
              "      <th></th>\n",
              "      <th></th>\n",
              "      <th></th>\n",
              "      <th></th>\n",
              "      <th></th>\n",
              "      <th></th>\n",
              "      <th></th>\n",
              "    </tr>\n",
              "  </thead>\n",
              "  <tbody>\n",
              "    <tr>\n",
              "      <th>1</th>\n",
              "      <td>Brasil</td>\n",
              "      <td>334907570.0</td>\n",
              "      <td>396568543.0</td>\n",
              "      <td>475863218.0</td>\n",
              "      <td>524686244.0</td>\n",
              "      <td>567281406.0</td>\n",
              "      <td>629071171.0</td>\n",
              "      <td>717907186.0</td>\n",
              "      <td>729222075.0</td>\n",
              "      <td>904158000.0</td>\n",
              "      <td>1.011034e+09</td>\n",
              "      <td>1.065682e+09</td>\n",
              "      <td>1.131626e+09</td>\n",
              "      <td>1.183094e+09</td>\n",
              "      <td>1.160787e+09</td>\n",
              "      <td>1.150720e+09</td>\n",
              "      <td>1.196931e+09</td>\n",
              "    </tr>\n",
              "    <tr>\n",
              "      <th>1100015</th>\n",
              "      <td>Alta Floresta D'Oeste (RO)</td>\n",
              "      <td>9377.0</td>\n",
              "      <td>12701.0</td>\n",
              "      <td>29963.0</td>\n",
              "      <td>13391.0</td>\n",
              "      <td>12885.0</td>\n",
              "      <td>12475.0</td>\n",
              "      <td>14529.0</td>\n",
              "      <td>14831.0</td>\n",
              "      <td>16119.0</td>\n",
              "      <td>1.794200e+04</td>\n",
              "      <td>1.890600e+04</td>\n",
              "      <td>2.033700e+04</td>\n",
              "      <td>2.204800e+04</td>\n",
              "      <td>2.064300e+04</td>\n",
              "      <td>3.159800e+04</td>\n",
              "      <td>2.780500e+04</td>\n",
              "    </tr>\n",
              "    <tr>\n",
              "      <th>1100023</th>\n",
              "      <td>Ariquemes (RO)</td>\n",
              "      <td>99923.0</td>\n",
              "      <td>107718.0</td>\n",
              "      <td>141387.0</td>\n",
              "      <td>139522.0</td>\n",
              "      <td>152518.0</td>\n",
              "      <td>192678.0</td>\n",
              "      <td>205835.0</td>\n",
              "      <td>185424.0</td>\n",
              "      <td>287139.0</td>\n",
              "      <td>3.797980e+05</td>\n",
              "      <td>3.086340e+05</td>\n",
              "      <td>3.547330e+05</td>\n",
              "      <td>3.475220e+05</td>\n",
              "      <td>3.200170e+05</td>\n",
              "      <td>3.542870e+05</td>\n",
              "      <td>3.303190e+05</td>\n",
              "    </tr>\n",
              "  </tbody>\n",
              "</table>\n",
              "</div>"
            ],
            "text/plain": [
              "                         Municípios         2002  ...          2016          2017\n",
              "Código                                            ...                            \n",
              "1                            Brasil  334907570.0  ...  1.150720e+09  1.196931e+09\n",
              "1100015  Alta Floresta D'Oeste (RO)       9377.0  ...  3.159800e+04  2.780500e+04\n",
              "1100023              Ariquemes (RO)      99923.0  ...  3.542870e+05  3.303190e+05\n",
              "\n",
              "[3 rows x 17 columns]"
            ]
          },
          "metadata": {
            "tags": []
          },
          "execution_count": 25
        }
      ]
    },
    {
      "cell_type": "code",
      "metadata": {
        "colab": {
          "base_uri": "https://localhost:8080/"
        },
        "id": "9p_CM4cUpuK6",
        "outputId": "85a831ba-52f4-48db-b7e9-f7456dd7cc35"
      },
      "source": [
        "#Variável - Impostos, líquidos de subsídios, sobre produtos a preços correntes (Mil Reais)\n",
        "index = 16\n",
        "name_worksheet_aux = ibge_data_total.worksheets()[index].title\n",
        "worksheet_aux = ibge_data_total.get_worksheet(index) \n",
        "data = worksheet_aux.get_all_values()[3:]\n",
        "headers = data.pop(0)\n",
        "df_pib_produtos = pd.DataFrame(data, columns=headers)\n",
        "df_pib_produtos = df_pib_produtos.replace('...', np.nan)\n",
        "df_pib_produtos = df_pib_produtos.set_index('Código')\n",
        "for i in df_pib_produtos.columns:\n",
        "  if ('20' in i) or ('19' in i):\n",
        "    df_pib_produtos[i] = df_pib_produtos[i].astype('float64')\n",
        "df_pib_produtos.head(3)"
      ],
      "execution_count": null,
      "outputs": [
        {
          "output_type": "execute_result",
          "data": {
            "text/html": [
              "<div>\n",
              "<style scoped>\n",
              "    .dataframe tbody tr th:only-of-type {\n",
              "        vertical-align: middle;\n",
              "    }\n",
              "\n",
              "    .dataframe tbody tr th {\n",
              "        vertical-align: top;\n",
              "    }\n",
              "\n",
              "    .dataframe thead th {\n",
              "        text-align: right;\n",
              "    }\n",
              "</style>\n",
              "<table border=\"1\" class=\"dataframe\">\n",
              "  <thead>\n",
              "    <tr style=\"text-align: right;\">\n",
              "      <th></th>\n",
              "      <th>Municípios</th>\n",
              "      <th>2002</th>\n",
              "      <th>2003</th>\n",
              "      <th>2004</th>\n",
              "      <th>2005</th>\n",
              "      <th>2006</th>\n",
              "      <th>2007</th>\n",
              "      <th>2008</th>\n",
              "      <th>2009</th>\n",
              "      <th>2010</th>\n",
              "      <th>2011</th>\n",
              "      <th>2012</th>\n",
              "      <th>2013</th>\n",
              "      <th>2014</th>\n",
              "      <th>2015</th>\n",
              "      <th>2016</th>\n",
              "      <th>2017</th>\n",
              "    </tr>\n",
              "    <tr>\n",
              "      <th>Código</th>\n",
              "      <th></th>\n",
              "      <th></th>\n",
              "      <th></th>\n",
              "      <th></th>\n",
              "      <th></th>\n",
              "      <th></th>\n",
              "      <th></th>\n",
              "      <th></th>\n",
              "      <th></th>\n",
              "      <th></th>\n",
              "      <th></th>\n",
              "      <th></th>\n",
              "      <th></th>\n",
              "      <th></th>\n",
              "      <th></th>\n",
              "      <th></th>\n",
              "      <th></th>\n",
              "    </tr>\n",
              "  </thead>\n",
              "  <tbody>\n",
              "    <tr>\n",
              "      <th>1</th>\n",
              "      <td>Brasil</td>\n",
              "      <td>218572609.0</td>\n",
              "      <td>247233152.0</td>\n",
              "      <td>295769101.0</td>\n",
              "      <td>327766101.0</td>\n",
              "      <td>360159938.0</td>\n",
              "      <td>400734670.0</td>\n",
              "      <td>483325381.0</td>\n",
              "      <td>483276517.0</td>\n",
              "      <td>583007000.0</td>\n",
              "      <td>655921000.0</td>\n",
              "      <td>720501000.0</td>\n",
              "      <td>777858957.0</td>\n",
              "      <td>806218780.0</td>\n",
              "      <td>840186000.0</td>\n",
              "      <td>849506000.0</td>\n",
              "      <td>913553000.0</td>\n",
              "    </tr>\n",
              "    <tr>\n",
              "      <th>1100015</th>\n",
              "      <td>Alta Floresta D'Oeste (RO)</td>\n",
              "      <td>7549.0</td>\n",
              "      <td>10512.0</td>\n",
              "      <td>12219.0</td>\n",
              "      <td>12934.0</td>\n",
              "      <td>13669.0</td>\n",
              "      <td>15974.0</td>\n",
              "      <td>20292.0</td>\n",
              "      <td>18874.0</td>\n",
              "      <td>20957.0</td>\n",
              "      <td>21215.0</td>\n",
              "      <td>19880.0</td>\n",
              "      <td>16776.0</td>\n",
              "      <td>18793.0</td>\n",
              "      <td>23228.0</td>\n",
              "      <td>23202.0</td>\n",
              "      <td>28793.0</td>\n",
              "    </tr>\n",
              "    <tr>\n",
              "      <th>1100023</th>\n",
              "      <td>Ariquemes (RO)</td>\n",
              "      <td>42666.0</td>\n",
              "      <td>53928.0</td>\n",
              "      <td>68381.0</td>\n",
              "      <td>85363.0</td>\n",
              "      <td>100421.0</td>\n",
              "      <td>105935.0</td>\n",
              "      <td>124094.0</td>\n",
              "      <td>133461.0</td>\n",
              "      <td>165030.0</td>\n",
              "      <td>206128.0</td>\n",
              "      <td>202427.0</td>\n",
              "      <td>190305.0</td>\n",
              "      <td>195603.0</td>\n",
              "      <td>217467.0</td>\n",
              "      <td>216460.0</td>\n",
              "      <td>232012.0</td>\n",
              "    </tr>\n",
              "  </tbody>\n",
              "</table>\n",
              "</div>"
            ],
            "text/plain": [
              "                         Municípios         2002  ...         2016         2017\n",
              "Código                                            ...                          \n",
              "1                            Brasil  218572609.0  ...  849506000.0  913553000.0\n",
              "1100015  Alta Floresta D'Oeste (RO)       7549.0  ...      23202.0      28793.0\n",
              "1100023              Ariquemes (RO)      42666.0  ...     216460.0     232012.0\n",
              "\n",
              "[3 rows x 17 columns]"
            ]
          },
          "metadata": {
            "tags": []
          },
          "execution_count": 26
        }
      ]
    },
    {
      "cell_type": "code",
      "metadata": {
        "colab": {
          "base_uri": "https://localhost:8080/"
        },
        "id": "c0V9bkaIp5_A",
        "outputId": "a8c6101c-de58-4089-b517-aa38ea592016"
      },
      "source": [
        "#Variável - Valor adicionado bruto a preços correntes total (Mil Reais)\n",
        "index = 17\n",
        "name_worksheet_aux = ibge_data_total.worksheets()[index].title\n",
        "worksheet_aux = ibge_data_total.get_worksheet(index) \n",
        "data = worksheet_aux.get_all_values()[3:]\n",
        "headers = data.pop(0)\n",
        "df_pib_correntes_2 = pd.DataFrame(data, columns=headers)\n",
        "df_pib_correntes_2 = df_pib_correntes_2.replace('...', np.nan)\n",
        "df_pib_correntes_2 = df_pib_correntes_2.set_index('Código')\n",
        "for i in df_pib_correntes_2.columns:\n",
        "  if ('20' in i) or ('19' in i):\n",
        "    df_pib_correntes_2[i] = df_pib_correntes_2[i].astype('float64')\n",
        "df_pib_correntes_2.head(3)"
      ],
      "execution_count": null,
      "outputs": [
        {
          "output_type": "execute_result",
          "data": {
            "text/html": [
              "<div>\n",
              "<style scoped>\n",
              "    .dataframe tbody tr th:only-of-type {\n",
              "        vertical-align: middle;\n",
              "    }\n",
              "\n",
              "    .dataframe tbody tr th {\n",
              "        vertical-align: top;\n",
              "    }\n",
              "\n",
              "    .dataframe thead th {\n",
              "        text-align: right;\n",
              "    }\n",
              "</style>\n",
              "<table border=\"1\" class=\"dataframe\">\n",
              "  <thead>\n",
              "    <tr style=\"text-align: right;\">\n",
              "      <th></th>\n",
              "      <th>Municípios</th>\n",
              "      <th>2002</th>\n",
              "      <th>2003</th>\n",
              "      <th>2004</th>\n",
              "      <th>2005</th>\n",
              "      <th>2006</th>\n",
              "      <th>2007</th>\n",
              "      <th>2008</th>\n",
              "      <th>2009</th>\n",
              "      <th>2010</th>\n",
              "      <th>2011</th>\n",
              "      <th>2012</th>\n",
              "      <th>2013</th>\n",
              "      <th>2014</th>\n",
              "      <th>2015</th>\n",
              "      <th>2016</th>\n",
              "      <th>2017</th>\n",
              "    </tr>\n",
              "    <tr>\n",
              "      <th>Código</th>\n",
              "      <th></th>\n",
              "      <th></th>\n",
              "      <th></th>\n",
              "      <th></th>\n",
              "      <th></th>\n",
              "      <th></th>\n",
              "      <th></th>\n",
              "      <th></th>\n",
              "      <th></th>\n",
              "      <th></th>\n",
              "      <th></th>\n",
              "      <th></th>\n",
              "      <th></th>\n",
              "      <th></th>\n",
              "      <th></th>\n",
              "      <th></th>\n",
              "      <th></th>\n",
              "    </tr>\n",
              "  </thead>\n",
              "  <tbody>\n",
              "    <tr>\n",
              "      <th>1</th>\n",
              "      <td>Brasil</td>\n",
              "      <td>1.270215e+09</td>\n",
              "      <td>1.470717e+09</td>\n",
              "      <td>1.661982e+09</td>\n",
              "      <td>1.842818e+09</td>\n",
              "      <td>2.049290e+09</td>\n",
              "      <td>2.319528e+09</td>\n",
              "      <td>2.626478e+09</td>\n",
              "      <td>2.849763e+09</td>\n",
              "      <td>3.302840e+09</td>\n",
              "      <td>3.720461e+09</td>\n",
              "      <td>4.094259e+09</td>\n",
              "      <td>4.553760e+09</td>\n",
              "      <td>4.972734e+09</td>\n",
              "      <td>5.155601e+09</td>\n",
              "      <td>5.419822e+09</td>\n",
              "      <td>5.669766e+09</td>\n",
              "    </tr>\n",
              "    <tr>\n",
              "      <th>1100015</th>\n",
              "      <td>Alta Floresta D'Oeste (RO)</td>\n",
              "      <td>1.037420e+05</td>\n",
              "      <td>1.327110e+05</td>\n",
              "      <td>1.617720e+05</td>\n",
              "      <td>1.541940e+05</td>\n",
              "      <td>1.551360e+05</td>\n",
              "      <td>1.753910e+05</td>\n",
              "      <td>2.286700e+05</td>\n",
              "      <td>2.381120e+05</td>\n",
              "      <td>2.411200e+05</td>\n",
              "      <td>2.592950e+05</td>\n",
              "      <td>3.091500e+05</td>\n",
              "      <td>3.245490e+05</td>\n",
              "      <td>3.590060e+05</td>\n",
              "      <td>3.980720e+05</td>\n",
              "      <td>4.550140e+05</td>\n",
              "      <td>4.700720e+05</td>\n",
              "    </tr>\n",
              "    <tr>\n",
              "      <th>1100023</th>\n",
              "      <td>Ariquemes (RO)</td>\n",
              "      <td>4.069270e+05</td>\n",
              "      <td>4.857090e+05</td>\n",
              "      <td>5.888120e+05</td>\n",
              "      <td>6.636580e+05</td>\n",
              "      <td>6.902760e+05</td>\n",
              "      <td>7.992680e+05</td>\n",
              "      <td>9.407280e+05</td>\n",
              "      <td>9.996330e+05</td>\n",
              "      <td>1.199664e+06</td>\n",
              "      <td>1.445757e+06</td>\n",
              "      <td>1.501215e+06</td>\n",
              "      <td>1.609548e+06</td>\n",
              "      <td>1.725928e+06</td>\n",
              "      <td>1.820331e+06</td>\n",
              "      <td>1.967886e+06</td>\n",
              "      <td>2.064062e+06</td>\n",
              "    </tr>\n",
              "  </tbody>\n",
              "</table>\n",
              "</div>"
            ],
            "text/plain": [
              "                         Municípios          2002  ...          2016          2017\n",
              "Código                                             ...                            \n",
              "1                            Brasil  1.270215e+09  ...  5.419822e+09  5.669766e+09\n",
              "1100015  Alta Floresta D'Oeste (RO)  1.037420e+05  ...  4.550140e+05  4.700720e+05\n",
              "1100023              Ariquemes (RO)  4.069270e+05  ...  1.967886e+06  2.064062e+06\n",
              "\n",
              "[3 rows x 17 columns]"
            ]
          },
          "metadata": {
            "tags": []
          },
          "execution_count": 27
        }
      ]
    },
    {
      "cell_type": "code",
      "metadata": {
        "colab": {
          "base_uri": "https://localhost:8080/"
        },
        "id": "RtR9DVygqO3s",
        "outputId": "ee476bbf-bb58-4a60-edf4-aed07193ea36"
      },
      "source": [
        "#Variável - Valor adicionado bruto a preços correntes dos serviços, exclusive administração, defesa, educação e saúde públicas e seguridade social (Mil Reais)\n",
        "index = 18\n",
        "name_worksheet_aux = ibge_data_total.worksheets()[index].title\n",
        "worksheet_aux = ibge_data_total.get_worksheet(index) \n",
        "data = worksheet_aux.get_all_values()[3:]\n",
        "headers = data.pop(0)\n",
        "df_pib_sociedade_1 = pd.DataFrame(data, columns=headers)\n",
        "df_pib_sociedade_1 = df_pib_sociedade_1.replace('...', np.nan)\n",
        "df_pib_sociedade_1 = df_pib_sociedade_1.set_index('Código')\n",
        "for i in df_pib_sociedade_1.columns:\n",
        "  if ('20' in i) or ('19' in i):\n",
        "    df_pib_sociedade_1[i] = df_pib_sociedade_1[i].astype('float64')\n",
        "df_pib_sociedade_1.head(3)"
      ],
      "execution_count": null,
      "outputs": [
        {
          "output_type": "execute_result",
          "data": {
            "text/html": [
              "<div>\n",
              "<style scoped>\n",
              "    .dataframe tbody tr th:only-of-type {\n",
              "        vertical-align: middle;\n",
              "    }\n",
              "\n",
              "    .dataframe tbody tr th {\n",
              "        vertical-align: top;\n",
              "    }\n",
              "\n",
              "    .dataframe thead th {\n",
              "        text-align: right;\n",
              "    }\n",
              "</style>\n",
              "<table border=\"1\" class=\"dataframe\">\n",
              "  <thead>\n",
              "    <tr style=\"text-align: right;\">\n",
              "      <th></th>\n",
              "      <th>Municípios</th>\n",
              "      <th>2002</th>\n",
              "      <th>2003</th>\n",
              "      <th>2004</th>\n",
              "      <th>2005</th>\n",
              "      <th>2006</th>\n",
              "      <th>2007</th>\n",
              "      <th>2008</th>\n",
              "      <th>2009</th>\n",
              "      <th>2010</th>\n",
              "      <th>2011</th>\n",
              "      <th>2012</th>\n",
              "      <th>2013</th>\n",
              "      <th>2014</th>\n",
              "      <th>2015</th>\n",
              "      <th>2016</th>\n",
              "      <th>2017</th>\n",
              "    </tr>\n",
              "    <tr>\n",
              "      <th>Código</th>\n",
              "      <th></th>\n",
              "      <th></th>\n",
              "      <th></th>\n",
              "      <th></th>\n",
              "      <th></th>\n",
              "      <th></th>\n",
              "      <th></th>\n",
              "      <th></th>\n",
              "      <th></th>\n",
              "      <th></th>\n",
              "      <th></th>\n",
              "      <th></th>\n",
              "      <th></th>\n",
              "      <th></th>\n",
              "      <th></th>\n",
              "      <th></th>\n",
              "      <th></th>\n",
              "    </tr>\n",
              "  </thead>\n",
              "  <tbody>\n",
              "    <tr>\n",
              "      <th>1</th>\n",
              "      <td>Brasil</td>\n",
              "      <td>644403214.0</td>\n",
              "      <td>732543684.0</td>\n",
              "      <td>815527583.0</td>\n",
              "      <td>922044705.0</td>\n",
              "      <td>1.043095e+09</td>\n",
              "      <td>1.193195e+09</td>\n",
              "      <td>1.332297e+09</td>\n",
              "      <td>1.484149e+09</td>\n",
              "      <td>1.700905e+09</td>\n",
              "      <td>1.921344e+09</td>\n",
              "      <td>2.175781e+09</td>\n",
              "      <td>2.435657e+09</td>\n",
              "      <td>2.722857e+09</td>\n",
              "      <td>2.850260e+09</td>\n",
              "      <td>3.017326e+09</td>\n",
              "      <td>3.168889e+09</td>\n",
              "    </tr>\n",
              "    <tr>\n",
              "      <th>1100015</th>\n",
              "      <td>Alta Floresta D'Oeste (RO)</td>\n",
              "      <td>24651.0</td>\n",
              "      <td>32976.0</td>\n",
              "      <td>39090.0</td>\n",
              "      <td>39585.0</td>\n",
              "      <td>3.639900e+04</td>\n",
              "      <td>4.637200e+04</td>\n",
              "      <td>6.080300e+04</td>\n",
              "      <td>6.108300e+04</td>\n",
              "      <td>6.249600e+04</td>\n",
              "      <td>6.548600e+04</td>\n",
              "      <td>7.133000e+04</td>\n",
              "      <td>7.302500e+04</td>\n",
              "      <td>8.775100e+04</td>\n",
              "      <td>9.877900e+04</td>\n",
              "      <td>1.145410e+05</td>\n",
              "      <td>1.177170e+05</td>\n",
              "    </tr>\n",
              "    <tr>\n",
              "      <th>1100023</th>\n",
              "      <td>Ariquemes (RO)</td>\n",
              "      <td>161852.0</td>\n",
              "      <td>201089.0</td>\n",
              "      <td>251591.0</td>\n",
              "      <td>298604.0</td>\n",
              "      <td>2.918400e+05</td>\n",
              "      <td>3.385780e+05</td>\n",
              "      <td>4.081290e+05</td>\n",
              "      <td>4.446530e+05</td>\n",
              "      <td>4.949460e+05</td>\n",
              "      <td>6.099540e+05</td>\n",
              "      <td>6.806750e+05</td>\n",
              "      <td>6.948320e+05</td>\n",
              "      <td>7.799410e+05</td>\n",
              "      <td>8.461880e+05</td>\n",
              "      <td>8.795550e+05</td>\n",
              "      <td>9.339350e+05</td>\n",
              "    </tr>\n",
              "  </tbody>\n",
              "</table>\n",
              "</div>"
            ],
            "text/plain": [
              "                         Municípios         2002  ...          2016          2017\n",
              "Código                                            ...                            \n",
              "1                            Brasil  644403214.0  ...  3.017326e+09  3.168889e+09\n",
              "1100015  Alta Floresta D'Oeste (RO)      24651.0  ...  1.145410e+05  1.177170e+05\n",
              "1100023              Ariquemes (RO)     161852.0  ...  8.795550e+05  9.339350e+05\n",
              "\n",
              "[3 rows x 17 columns]"
            ]
          },
          "metadata": {
            "tags": []
          },
          "execution_count": 28
        }
      ]
    },
    {
      "cell_type": "code",
      "metadata": {
        "colab": {
          "base_uri": "https://localhost:8080/"
        },
        "id": "TbUCtRdbt_qH",
        "outputId": "be9ba257-b590-4e14-e4f9-d0c533e57e8f"
      },
      "source": [
        "#Variável - Valor adicionado bruto a preços correntes da administração, defesa, educação e saúde públicas e seguridade social (Mil Reais)\n",
        "index = 19\n",
        "name_worksheet_aux = ibge_data_total.worksheets()[index].title\n",
        "worksheet_aux = ibge_data_total.get_worksheet(index) \n",
        "data = worksheet_aux.get_all_values()[3:]\n",
        "headers = data.pop(0)\n",
        "df_pib_sociedade_2 = pd.DataFrame(data, columns=headers)\n",
        "df_pib_sociedade_2 = df_pib_sociedade_2.replace('...', np.nan)\n",
        "df_pib_sociedade_2 = df_pib_sociedade_2.set_index('Código')\n",
        "for i in df_pib_sociedade_2.columns:\n",
        "  if ('20' in i) or ('19' in i):\n",
        "    df_pib_sociedade_2[i] = df_pib_sociedade_2[i].astype('float64')\n",
        "df_pib_sociedade_2.head(3)"
      ],
      "execution_count": null,
      "outputs": [
        {
          "output_type": "execute_result",
          "data": {
            "text/html": [
              "<div>\n",
              "<style scoped>\n",
              "    .dataframe tbody tr th:only-of-type {\n",
              "        vertical-align: middle;\n",
              "    }\n",
              "\n",
              "    .dataframe tbody tr th {\n",
              "        vertical-align: top;\n",
              "    }\n",
              "\n",
              "    .dataframe thead th {\n",
              "        text-align: right;\n",
              "    }\n",
              "</style>\n",
              "<table border=\"1\" class=\"dataframe\">\n",
              "  <thead>\n",
              "    <tr style=\"text-align: right;\">\n",
              "      <th></th>\n",
              "      <th>Municípios</th>\n",
              "      <th>2002</th>\n",
              "      <th>2003</th>\n",
              "      <th>2004</th>\n",
              "      <th>2005</th>\n",
              "      <th>2006</th>\n",
              "      <th>2007</th>\n",
              "      <th>2008</th>\n",
              "      <th>2009</th>\n",
              "      <th>2010</th>\n",
              "      <th>2011</th>\n",
              "      <th>2012</th>\n",
              "      <th>2013</th>\n",
              "      <th>2014</th>\n",
              "      <th>2015</th>\n",
              "      <th>2016</th>\n",
              "      <th>2017</th>\n",
              "    </tr>\n",
              "    <tr>\n",
              "      <th>Código</th>\n",
              "      <th></th>\n",
              "      <th></th>\n",
              "      <th></th>\n",
              "      <th></th>\n",
              "      <th></th>\n",
              "      <th></th>\n",
              "      <th></th>\n",
              "      <th></th>\n",
              "      <th></th>\n",
              "      <th></th>\n",
              "      <th></th>\n",
              "      <th></th>\n",
              "      <th></th>\n",
              "      <th></th>\n",
              "      <th></th>\n",
              "      <th></th>\n",
              "      <th></th>\n",
              "    </tr>\n",
              "  </thead>\n",
              "  <tbody>\n",
              "    <tr>\n",
              "      <th>1</th>\n",
              "      <td>Brasil</td>\n",
              "      <td>209388684.0</td>\n",
              "      <td>235655842.0</td>\n",
              "      <td>259678619.0</td>\n",
              "      <td>295129906.0</td>\n",
              "      <td>333619786.0</td>\n",
              "      <td>377110174.0</td>\n",
              "      <td>434222689.0</td>\n",
              "      <td>487178806.0</td>\n",
              "      <td>537845000.0</td>\n",
              "      <td>598059000.0</td>\n",
              "      <td>652101000.0</td>\n",
              "      <td>746187000.0</td>\n",
              "      <td>816808000.0</td>\n",
              "      <td>885587000.0</td>\n",
              "      <td>945121000.0</td>\n",
              "      <td>1.000975e+09</td>\n",
              "    </tr>\n",
              "    <tr>\n",
              "      <th>1100015</th>\n",
              "      <td>Alta Floresta D'Oeste (RO)</td>\n",
              "      <td>42701.0</td>\n",
              "      <td>45955.0</td>\n",
              "      <td>51306.0</td>\n",
              "      <td>59693.0</td>\n",
              "      <td>66383.0</td>\n",
              "      <td>64541.0</td>\n",
              "      <td>76245.0</td>\n",
              "      <td>85196.0</td>\n",
              "      <td>93245.0</td>\n",
              "      <td>102539.0</td>\n",
              "      <td>112789.0</td>\n",
              "      <td>120336.0</td>\n",
              "      <td>126477.0</td>\n",
              "      <td>132243.0</td>\n",
              "      <td>142733.0</td>\n",
              "      <td>1.549260e+05</td>\n",
              "    </tr>\n",
              "    <tr>\n",
              "      <th>1100023</th>\n",
              "      <td>Ariquemes (RO)</td>\n",
              "      <td>116562.0</td>\n",
              "      <td>129594.0</td>\n",
              "      <td>148981.0</td>\n",
              "      <td>179165.0</td>\n",
              "      <td>203748.0</td>\n",
              "      <td>220146.0</td>\n",
              "      <td>261846.0</td>\n",
              "      <td>301848.0</td>\n",
              "      <td>343868.0</td>\n",
              "      <td>375488.0</td>\n",
              "      <td>415411.0</td>\n",
              "      <td>466733.0</td>\n",
              "      <td>487603.0</td>\n",
              "      <td>524470.0</td>\n",
              "      <td>588975.0</td>\n",
              "      <td>6.345910e+05</td>\n",
              "    </tr>\n",
              "  </tbody>\n",
              "</table>\n",
              "</div>"
            ],
            "text/plain": [
              "                         Municípios         2002  ...         2016          2017\n",
              "Código                                            ...                           \n",
              "1                            Brasil  209388684.0  ...  945121000.0  1.000975e+09\n",
              "1100015  Alta Floresta D'Oeste (RO)      42701.0  ...     142733.0  1.549260e+05\n",
              "1100023              Ariquemes (RO)     116562.0  ...     588975.0  6.345910e+05\n",
              "\n",
              "[3 rows x 17 columns]"
            ]
          },
          "metadata": {
            "tags": []
          },
          "execution_count": 29
        }
      ]
    },
    {
      "cell_type": "code",
      "metadata": {
        "id": "iI4XBLi5GGFG"
      },
      "source": [
        "# LatLong + Código UF\n",
        "index = 20\n",
        "name_worksheet_aux = ibge_data_total.worksheets()[index].title\n",
        "worksheet_aux = ibge_data_total.get_worksheet(index) \n",
        "data = worksheet_aux.get_all_values()[:]\n",
        "headers = data.pop(0)\n",
        "df_latlong = pd.DataFrame(data, columns=headers)\n",
        "df_latlong = df_latlong.set_index('Código')\n",
        "df_latlong.head(3)\n",
        "df_latlong['Latitude'] = df_latlong['Latitude'].astype('float64')\n",
        "df_latlong['Longitude'] = df_latlong['Longitude'].astype('float64')"
      ],
      "execution_count": null,
      "outputs": []
    },
    {
      "cell_type": "markdown",
      "metadata": {
        "id": "HTJ9t0Yaeqho"
      },
      "source": [
        "## Deep learning model"
      ]
    },
    {
      "cell_type": "code",
      "metadata": {
        "id": "oxLVUjnVeqho"
      },
      "source": [
        "df = population_df.iloc[1:, 1:]"
      ],
      "execution_count": null,
      "outputs": []
    },
    {
      "cell_type": "code",
      "metadata": {
        "colab": {
          "base_uri": "https://localhost:8080/",
          "height": 255
        },
        "id": "-E_mX0_eaj-5",
        "outputId": "c910d82a-8b39-495d-d5c3-20b6a08f1876"
      },
      "source": [
        "df.head()"
      ],
      "execution_count": null,
      "outputs": [
        {
          "output_type": "execute_result",
          "data": {
            "text/html": [
              "<div>\n",
              "<style scoped>\n",
              "    .dataframe tbody tr th:only-of-type {\n",
              "        vertical-align: middle;\n",
              "    }\n",
              "\n",
              "    .dataframe tbody tr th {\n",
              "        vertical-align: top;\n",
              "    }\n",
              "\n",
              "    .dataframe thead th {\n",
              "        text-align: right;\n",
              "    }\n",
              "</style>\n",
              "<table border=\"1\" class=\"dataframe\">\n",
              "  <thead>\n",
              "    <tr style=\"text-align: right;\">\n",
              "      <th></th>\n",
              "      <th>1991</th>\n",
              "      <th>1996</th>\n",
              "      <th>2000</th>\n",
              "      <th>2001</th>\n",
              "      <th>2002</th>\n",
              "      <th>2003</th>\n",
              "      <th>2004</th>\n",
              "      <th>2005</th>\n",
              "      <th>2006</th>\n",
              "      <th>2007</th>\n",
              "      <th>2008</th>\n",
              "      <th>2009</th>\n",
              "      <th>2010</th>\n",
              "      <th>2011</th>\n",
              "      <th>2012</th>\n",
              "      <th>2013</th>\n",
              "      <th>2014</th>\n",
              "      <th>2015</th>\n",
              "      <th>2016</th>\n",
              "      <th>2017</th>\n",
              "      <th>2018</th>\n",
              "      <th>2019</th>\n",
              "    </tr>\n",
              "    <tr>\n",
              "      <th>Codigo</th>\n",
              "      <th></th>\n",
              "      <th></th>\n",
              "      <th></th>\n",
              "      <th></th>\n",
              "      <th></th>\n",
              "      <th></th>\n",
              "      <th></th>\n",
              "      <th></th>\n",
              "      <th></th>\n",
              "      <th></th>\n",
              "      <th></th>\n",
              "      <th></th>\n",
              "      <th></th>\n",
              "      <th></th>\n",
              "      <th></th>\n",
              "      <th></th>\n",
              "      <th></th>\n",
              "      <th></th>\n",
              "      <th></th>\n",
              "      <th></th>\n",
              "      <th></th>\n",
              "      <th></th>\n",
              "    </tr>\n",
              "  </thead>\n",
              "  <tbody>\n",
              "    <tr>\n",
              "      <th>1100023</th>\n",
              "      <td>83684.0</td>\n",
              "      <td>68503.0</td>\n",
              "      <td>74329.0</td>\n",
              "      <td>76371.0</td>\n",
              "      <td>78039.0</td>\n",
              "      <td>79680.0</td>\n",
              "      <td>86901.0</td>\n",
              "      <td>85031.0</td>\n",
              "      <td>86924.0</td>\n",
              "      <td>82388.0</td>\n",
              "      <td>84581.0</td>\n",
              "      <td>85541.0</td>\n",
              "      <td>90353.0</td>\n",
              "      <td>91570.0</td>\n",
              "      <td>92747</td>\n",
              "      <td>101269</td>\n",
              "      <td>102860</td>\n",
              "      <td>104401</td>\n",
              "      <td>105896</td>\n",
              "      <td>107345</td>\n",
              "      <td>106168</td>\n",
              "      <td>107863</td>\n",
              "    </tr>\n",
              "    <tr>\n",
              "      <th>1100031</th>\n",
              "      <td>8174.0</td>\n",
              "      <td>8263.0</td>\n",
              "      <td>7517.0</td>\n",
              "      <td>7501.0</td>\n",
              "      <td>7490.0</td>\n",
              "      <td>7478.0</td>\n",
              "      <td>7421.0</td>\n",
              "      <td>7436.0</td>\n",
              "      <td>7421.0</td>\n",
              "      <td>6575.0</td>\n",
              "      <td>6777.0</td>\n",
              "      <td>6695.0</td>\n",
              "      <td>6313.0</td>\n",
              "      <td>6221.0</td>\n",
              "      <td>6132</td>\n",
              "      <td>6495</td>\n",
              "      <td>6424</td>\n",
              "      <td>6355</td>\n",
              "      <td>6289</td>\n",
              "      <td>6224</td>\n",
              "      <td>5438</td>\n",
              "      <td>5312</td>\n",
              "    </tr>\n",
              "    <tr>\n",
              "      <th>1100049</th>\n",
              "      <td>78934.0</td>\n",
              "      <td>72922.0</td>\n",
              "      <td>73527.0</td>\n",
              "      <td>73996.0</td>\n",
              "      <td>74381.0</td>\n",
              "      <td>74758.0</td>\n",
              "      <td>76417.0</td>\n",
              "      <td>75988.0</td>\n",
              "      <td>76422.0</td>\n",
              "      <td>76155.0</td>\n",
              "      <td>78263.0</td>\n",
              "      <td>78675.0</td>\n",
              "      <td>78574.0</td>\n",
              "      <td>78959.0</td>\n",
              "      <td>79330</td>\n",
              "      <td>85863</td>\n",
              "      <td>86556</td>\n",
              "      <td>87226</td>\n",
              "      <td>87877</td>\n",
              "      <td>88507</td>\n",
              "      <td>84813</td>\n",
              "      <td>85359</td>\n",
              "    </tr>\n",
              "    <tr>\n",
              "      <th>1100056</th>\n",
              "      <td>21608.0</td>\n",
              "      <td>21157.0</td>\n",
              "      <td>18180.0</td>\n",
              "      <td>18012.0</td>\n",
              "      <td>17925.0</td>\n",
              "      <td>17794.0</td>\n",
              "      <td>17217.0</td>\n",
              "      <td>17366.0</td>\n",
              "      <td>17215.0</td>\n",
              "      <td>16290.0</td>\n",
              "      <td>16784.0</td>\n",
              "      <td>16622.0</td>\n",
              "      <td>17029.0</td>\n",
              "      <td>16939.0</td>\n",
              "      <td>16852</td>\n",
              "      <td>18041</td>\n",
              "      <td>18013</td>\n",
              "      <td>17986</td>\n",
              "      <td>17959</td>\n",
              "      <td>17934</td>\n",
              "      <td>16444</td>\n",
              "      <td>16323</td>\n",
              "    </tr>\n",
              "    <tr>\n",
              "      <th>1100064</th>\n",
              "      <td>38993.0</td>\n",
              "      <td>24955.0</td>\n",
              "      <td>21998.0</td>\n",
              "      <td>21421.0</td>\n",
              "      <td>20881.0</td>\n",
              "      <td>20412.0</td>\n",
              "      <td>18349.0</td>\n",
              "      <td>18883.0</td>\n",
              "      <td>18342.0</td>\n",
              "      <td>17644.0</td>\n",
              "      <td>18216.0</td>\n",
              "      <td>17822.0</td>\n",
              "      <td>18591.0</td>\n",
              "      <td>18338.0</td>\n",
              "      <td>18093</td>\n",
              "      <td>19190</td>\n",
              "      <td>19001</td>\n",
              "      <td>18817</td>\n",
              "      <td>18639</td>\n",
              "      <td>18467</td>\n",
              "      <td>16227</td>\n",
              "      <td>15882</td>\n",
              "    </tr>\n",
              "  </tbody>\n",
              "</table>\n",
              "</div>"
            ],
            "text/plain": [
              "            1991     1996     2000     2001  ...    2016    2017    2018    2019\n",
              "Codigo                                       ...                                \n",
              "1100023  83684.0  68503.0  74329.0  76371.0  ...  105896  107345  106168  107863\n",
              "1100031   8174.0   8263.0   7517.0   7501.0  ...    6289    6224    5438    5312\n",
              "1100049  78934.0  72922.0  73527.0  73996.0  ...   87877   88507   84813   85359\n",
              "1100056  21608.0  21157.0  18180.0  18012.0  ...   17959   17934   16444   16323\n",
              "1100064  38993.0  24955.0  21998.0  21421.0  ...   18639   18467   16227   15882\n",
              "\n",
              "[5 rows x 22 columns]"
            ]
          },
          "metadata": {
            "tags": []
          },
          "execution_count": 36
        }
      ]
    },
    {
      "cell_type": "code",
      "metadata": {
        "id": "BKqnRDweeqho"
      },
      "source": [
        "df = df.dropna()"
      ],
      "execution_count": null,
      "outputs": []
    },
    {
      "cell_type": "code",
      "metadata": {
        "id": "h3De6Kiueqho"
      },
      "source": [
        "X, y = df.iloc[:,:-1], df.iloc[:,-1]"
      ],
      "execution_count": null,
      "outputs": []
    },
    {
      "cell_type": "code",
      "metadata": {
        "colab": {
          "base_uri": "https://localhost:8080/"
        },
        "id": "2dkzKrOceqho",
        "outputId": "69a12958-4c80-47a1-d3fe-8c0c7edb221c"
      },
      "source": [
        "X.head(), X.shape"
      ],
      "execution_count": null,
      "outputs": [
        {
          "output_type": "execute_result",
          "data": {
            "text/plain": [
              "(            1991     1996     2000     2001  ...    2015    2016    2017    2018\n",
              " Codigo                                       ...                                \n",
              " 1100023  83684.0  68503.0  74329.0  76371.0  ...  104401  105896  107345  106168\n",
              " 1100031   8174.0   8263.0   7517.0   7501.0  ...    6355    6289    6224    5438\n",
              " 1100049  78934.0  72922.0  73527.0  73996.0  ...   87226   87877   88507   84813\n",
              " 1100056  21608.0  21157.0  18180.0  18012.0  ...   17986   17959   17934   16444\n",
              " 1100064  38993.0  24955.0  21998.0  21421.0  ...   18817   18639   18467   16227\n",
              " \n",
              " [5 rows x 21 columns], (4490, 21))"
            ]
          },
          "metadata": {
            "tags": []
          },
          "execution_count": 39
        }
      ]
    },
    {
      "cell_type": "code",
      "metadata": {
        "colab": {
          "base_uri": "https://localhost:8080/"
        },
        "id": "74GJhtcbeqho",
        "outputId": "fde73bd8-d114-4c55-b5d0-69d691c22dfc"
      },
      "source": [
        "y.head(), y.shape"
      ],
      "execution_count": null,
      "outputs": [
        {
          "output_type": "execute_result",
          "data": {
            "text/plain": [
              "(Codigo\n",
              " 1100023    107863\n",
              " 1100031      5312\n",
              " 1100049     85359\n",
              " 1100056     16323\n",
              " 1100064     15882\n",
              " Name: 2019, dtype: int64, (4490,))"
            ]
          },
          "metadata": {
            "tags": []
          },
          "execution_count": 40
        }
      ]
    },
    {
      "cell_type": "code",
      "metadata": {
        "id": "GXtN3jGGeqho"
      },
      "source": [
        "X = np.asarray(X).astype('float32')"
      ],
      "execution_count": null,
      "outputs": []
    },
    {
      "cell_type": "code",
      "metadata": {
        "colab": {
          "base_uri": "https://localhost:8080/"
        },
        "id": "cBOzy8I_eqho",
        "outputId": "70c92acd-7894-4878-baf6-35c2ac3dac66"
      },
      "source": [
        "X.shape"
      ],
      "execution_count": null,
      "outputs": [
        {
          "output_type": "execute_result",
          "data": {
            "text/plain": [
              "(4490, 21)"
            ]
          },
          "metadata": {
            "tags": []
          },
          "execution_count": 42
        }
      ]
    },
    {
      "cell_type": "code",
      "metadata": {
        "colab": {
          "base_uri": "https://localhost:8080/"
        },
        "id": "d8Xz-75Xeqhp",
        "outputId": "7aacd829-cdc7-4669-83f8-5349f42fdbe7"
      },
      "source": [
        "X[0]"
      ],
      "execution_count": null,
      "outputs": [
        {
          "output_type": "execute_result",
          "data": {
            "text/plain": [
              "array([ 83684.,  68503.,  74329.,  76371.,  78039.,  79680.,  86901.,\n",
              "        85031.,  86924.,  82388.,  84581.,  85541.,  90353.,  91570.,\n",
              "        92747., 101269., 102860., 104401., 105896., 107345., 106168.],\n",
              "      dtype=float32)"
            ]
          },
          "metadata": {
            "tags": []
          },
          "execution_count": 43
        }
      ]
    },
    {
      "cell_type": "code",
      "metadata": {
        "id": "MVqXxj3Oeqhp"
      },
      "source": [
        "y = np.asarray(y).astype('float32')"
      ],
      "execution_count": null,
      "outputs": []
    },
    {
      "cell_type": "code",
      "metadata": {
        "colab": {
          "base_uri": "https://localhost:8080/"
        },
        "id": "u9nUtzPAeqhp",
        "outputId": "6a65cfd4-8baf-4a85-ee5a-5b6e55917825"
      },
      "source": [
        "y.shape"
      ],
      "execution_count": null,
      "outputs": [
        {
          "output_type": "execute_result",
          "data": {
            "text/plain": [
              "(4490,)"
            ]
          },
          "metadata": {
            "tags": []
          },
          "execution_count": 45
        }
      ]
    },
    {
      "cell_type": "code",
      "metadata": {
        "colab": {
          "base_uri": "https://localhost:8080/"
        },
        "id": "xLiuFwRUeqhp",
        "outputId": "ca193c10-8b0f-42b8-b324-6cce728fd00d"
      },
      "source": [
        "y[0]"
      ],
      "execution_count": null,
      "outputs": [
        {
          "output_type": "execute_result",
          "data": {
            "text/plain": [
              "107863.0"
            ]
          },
          "metadata": {
            "tags": []
          },
          "execution_count": 46
        }
      ]
    },
    {
      "cell_type": "code",
      "metadata": {
        "id": "MlsXUtYDsOn_"
      },
      "source": [
        "X_train, X_test, y_train, y_test = train_test_split(\n",
        "    X, y, test_size=0.33, random_state=42)"
      ],
      "execution_count": null,
      "outputs": []
    },
    {
      "cell_type": "code",
      "metadata": {
        "id": "egLYnH2TsW5A"
      },
      "source": [
        "scaler = StandardScaler()\n",
        "scaler2 = StandardScaler()"
      ],
      "execution_count": null,
      "outputs": []
    },
    {
      "cell_type": "code",
      "metadata": {
        "id": "fEFogjZ9s3tc"
      },
      "source": [
        "X_train = np.squeeze(X_train)"
      ],
      "execution_count": null,
      "outputs": []
    },
    {
      "cell_type": "code",
      "metadata": {
        "id": "xhxtTNTXtJmV"
      },
      "source": [
        "X_test = np.squeeze(X_test)"
      ],
      "execution_count": null,
      "outputs": []
    },
    {
      "cell_type": "code",
      "metadata": {
        "id": "KQfI-vIztjYp"
      },
      "source": [
        "y_train, y_test = y_train.reshape(-1, 1), y_test.reshape(-1, 1)"
      ],
      "execution_count": null,
      "outputs": []
    },
    {
      "cell_type": "code",
      "metadata": {
        "id": "BPvVl0QxsZkJ"
      },
      "source": [
        "X_train = scaler.fit_transform(X_train)\n",
        "y_train = scaler2.fit_transform(y_train)"
      ],
      "execution_count": null,
      "outputs": []
    },
    {
      "cell_type": "code",
      "metadata": {
        "id": "phhqO8gHt0tf"
      },
      "source": [
        "X_test, y_test = scaler.transform(X_test), scaler2.transform(y_test)"
      ],
      "execution_count": null,
      "outputs": []
    },
    {
      "cell_type": "markdown",
      "metadata": {
        "id": "L2V5nN5FwVQR"
      },
      "source": [
        "### Single layer LSTM model"
      ]
    },
    {
      "cell_type": "code",
      "metadata": {
        "colab": {
          "base_uri": "https://localhost:8080/"
        },
        "id": "qQ2lE-v5eqhp",
        "outputId": "641e7507-8308-4f01-e489-c8ca817ddc38"
      },
      "source": [
        "# Number of time steps\n",
        "n_steps = 21\n",
        "\n",
        "# Number of features\n",
        "n_features = 1\n",
        "\n",
        "# Reshape\n",
        "X_train = X_train.reshape((X_train.shape[0], X_train.shape[1], n_features))\n",
        "\n",
        "# Model\n",
        "model = Sequential()\n",
        "model.add(LSTM(32, activation='relu', input_shape=(n_steps, n_features)))\n",
        "model.add(Dense(1))\n",
        "model.compile(optimizer='rmsprop', loss='mae')"
      ],
      "execution_count": null,
      "outputs": [
        {
          "output_type": "stream",
          "text": [
            "WARNING:tensorflow:Layer lstm_10 will not use cuDNN kernel since it doesn't meet the cuDNN kernel criteria. It will use generic GPU kernel as fallback when running on GPU\n"
          ],
          "name": "stdout"
        }
      ]
    },
    {
      "cell_type": "code",
      "metadata": {
        "colab": {
          "base_uri": "https://localhost:8080/",
          "height": 605
        },
        "id": "HPNkjCCV2CJg",
        "outputId": "1402c7f3-4fb2-44cc-de1b-d13cfb055e6c"
      },
      "source": [
        "# Training\n",
        "history = model.fit(X_train, y_train, epochs=10, validation_split=0.10, verbose=1)\n",
        "# plot history\n",
        "plt.plot(history.history['loss'], label='train')\n",
        "plt.plot(history.history['val_loss'], label='test')\n",
        "plt.legend()\n",
        "plt.show()"
      ],
      "execution_count": null,
      "outputs": [
        {
          "output_type": "stream",
          "text": [
            "Epoch 1/10\n",
            "85/85 [==============================] - 3s 31ms/step - loss: 0.1147 - val_loss: 0.0456\n",
            "Epoch 2/10\n",
            "85/85 [==============================] - 3s 31ms/step - loss: 0.0311 - val_loss: 0.1229\n",
            "Epoch 3/10\n",
            "85/85 [==============================] - 3s 31ms/step - loss: 0.0298 - val_loss: 0.0289\n",
            "Epoch 4/10\n",
            "85/85 [==============================] - 3s 31ms/step - loss: 0.0210 - val_loss: 0.0359\n",
            "Epoch 5/10\n",
            "85/85 [==============================] - 3s 35ms/step - loss: 0.0193 - val_loss: 0.0283\n",
            "Epoch 6/10\n",
            "85/85 [==============================] - 3s 33ms/step - loss: 0.0190 - val_loss: 0.0349\n",
            "Epoch 7/10\n",
            "85/85 [==============================] - 3s 31ms/step - loss: 0.0185 - val_loss: 0.0153\n",
            "Epoch 8/10\n",
            "85/85 [==============================] - 3s 30ms/step - loss: 0.0179 - val_loss: 0.0222\n",
            "Epoch 9/10\n",
            "85/85 [==============================] - 3s 36ms/step - loss: 0.0174 - val_loss: 0.0225\n",
            "Epoch 10/10\n",
            "85/85 [==============================] - 3s 35ms/step - loss: 0.0154 - val_loss: 0.0204\n"
          ],
          "name": "stdout"
        },
        {
          "output_type": "display_data",
          "data": {
            "image/png": "[encoded data removed]",
            "text/plain": [
              "<Figure size 432x288 with 1 Axes>"
            ]
          },
          "metadata": {
            "tags": [],
            "needs_background": "light"
          }
        }
      ]
    },
    {
      "cell_type": "code",
      "metadata": {
        "colab": {
          "base_uri": "https://localhost:8080/"
        },
        "id": "6lYOWXiieqhp",
        "outputId": "6c9cc4c4-1c75-4165-80ed-ad5aa5a50da6"
      },
      "source": [
        "X_input = X_train[0]\n",
        "y_target = y_train[0]\n",
        "X_input = X_input.reshape((1, n_steps, n_features))\n",
        "pred = model.predict(X_input, verbose=0)[0][0]\n",
        "print(\"Prediction: \", scaler2.inverse_transform(pred.reshape(-1,1))[0][0])\n",
        "print(\"Actual: \", scaler2.inverse_transform(y_target)[0])"
      ],
      "execution_count": null,
      "outputs": [
        {
          "output_type": "stream",
          "text": [
            "Prediction:  3783.747\n",
            "Actual:  5924.001\n"
          ],
          "name": "stdout"
        }
      ]
    },
    {
      "cell_type": "code",
      "metadata": {
        "id": "-CLajOsNvsv2"
      },
      "source": [
        "X_test = X_test.reshape((X_test.shape[0], X_test.shape[1], n_features))\n",
        "preds = model.predict(X_test, verbose=0)"
      ],
      "execution_count": null,
      "outputs": []
    },
    {
      "cell_type": "code",
      "metadata": {
        "colab": {
          "base_uri": "https://localhost:8080/"
        },
        "id": "E0yo1Nb1vAOD",
        "outputId": "cc433e81-71fe-4474-c6ec-60e0b103777a"
      },
      "source": [
        "print(\"MAE\", mean_absolute_error(y_test, preds))\n",
        "print(\"RMSE\", sqrt(mean_squared_error(y_test, preds)))"
      ],
      "execution_count": null,
      "outputs": [
        {
          "output_type": "stream",
          "text": [
            "MAE 0.059047002\n",
            "RMSE 1.338830681657217\n"
          ],
          "name": "stdout"
        }
      ]
    },
    {
      "cell_type": "code",
      "metadata": {
        "id": "j3FpeXtk_W4e"
      },
      "source": [
        "model.save('/content/drive/My Drive/time-series-models/single-layer-lstm.h5')"
      ],
      "execution_count": null,
      "outputs": []
    },
    {
      "cell_type": "markdown",
      "metadata": {
        "id": "u3TV-VfCwkR8"
      },
      "source": [
        "### Stacked LSTM model"
      ]
    },
    {
      "cell_type": "code",
      "metadata": {
        "colab": {
          "base_uri": "https://localhost:8080/"
        },
        "id": "2jMgHJGTwkR8",
        "outputId": "aa3b9241-1568-4657-b65e-5c7d8696236d"
      },
      "source": [
        "# Number of time steps\n",
        "n_steps = 21\n",
        "\n",
        "# Number of features\n",
        "n_features = 1\n",
        "\n",
        "# Reshape\n",
        "X_train = X_train.reshape((X_train.shape[0], X_train.shape[1], n_features))\n",
        "\n",
        "# Model\n",
        "model = Sequential()\n",
        "model.add(LSTM(32, activation='relu', return_sequences=True, input_shape=(n_steps, n_features)))\n",
        "model.add(LSTM(32, activation='relu'))\n",
        "model.add(Dense(1))\n",
        "model.compile(optimizer='rmsprop', loss='mae')"
      ],
      "execution_count": null,
      "outputs": [
        {
          "output_type": "stream",
          "text": [
            "WARNING:tensorflow:Layer lstm_8 will not use cuDNN kernel since it doesn't meet the cuDNN kernel criteria. It will use generic GPU kernel as fallback when running on GPU\n",
            "WARNING:tensorflow:Layer lstm_9 will not use cuDNN kernel since it doesn't meet the cuDNN kernel criteria. It will use generic GPU kernel as fallback when running on GPU\n"
          ],
          "name": "stdout"
        }
      ]
    },
    {
      "cell_type": "code",
      "metadata": {
        "colab": {
          "base_uri": "https://localhost:8080/"
        },
        "id": "CuISAVy07TZw",
        "outputId": "598dabbf-c3d5-427a-b1e9-71ea215a8afa"
      },
      "source": [
        "# Training\n",
        "history = model.fit(X_train, y_train, epochs=10, validation_split=0.05, verbose=1)"
      ],
      "execution_count": null,
      "outputs": [
        {
          "output_type": "stream",
          "text": [
            "Epoch 1/10\n",
            "90/90 [==============================] - 6s 67ms/step - loss: 0.1532 - val_loss: 0.0315\n",
            "Epoch 2/10\n",
            "90/90 [==============================] - 6s 67ms/step - loss: 0.0438 - val_loss: 0.0454\n",
            "Epoch 3/10\n",
            "90/90 [==============================] - 5s 59ms/step - loss: 0.0344 - val_loss: 0.0283\n",
            "Epoch 4/10\n",
            "90/90 [==============================] - 6s 62ms/step - loss: 0.0299 - val_loss: 0.0260\n",
            "Epoch 5/10\n",
            "90/90 [==============================] - 6s 64ms/step - loss: 0.0285 - val_loss: 0.0249\n",
            "Epoch 6/10\n",
            "90/90 [==============================] - 6s 61ms/step - loss: 0.0375 - val_loss: 0.0178\n",
            "Epoch 7/10\n",
            "90/90 [==============================] - 5s 60ms/step - loss: 0.0261 - val_loss: 0.0161\n",
            "Epoch 8/10\n",
            "90/90 [==============================] - 6s 62ms/step - loss: 0.0240 - val_loss: 0.0267\n",
            "Epoch 9/10\n",
            "90/90 [==============================] - 6s 61ms/step - loss: 0.0225 - val_loss: 0.0150\n",
            "Epoch 10/10\n",
            "90/90 [==============================] - 6s 63ms/step - loss: 0.0229 - val_loss: 0.0230\n"
          ],
          "name": "stdout"
        }
      ]
    },
    {
      "cell_type": "code",
      "metadata": {
        "colab": {
          "base_uri": "https://localhost:8080/",
          "height": 269
        },
        "id": "OdfSt4dsB_sf",
        "outputId": "68170170-16f0-43cc-ca1a-1382d8a09257"
      },
      "source": [
        "# Plot history\n",
        "plt.plot(history.history['loss'], label='train')\n",
        "plt.plot(history.history['val_loss'], label='test')\n",
        "plt.legend()\n",
        "plt.show()"
      ],
      "execution_count": null,
      "outputs": [
        {
          "output_type": "display_data",
          "data": {
            "image/png": "[encoded data removed]",
            "text/plain": [
              "<Figure size 432x288 with 1 Axes>"
            ]
          },
          "metadata": {
            "tags": [],
            "needs_background": "light"
          }
        }
      ]
    },
    {
      "cell_type": "code",
      "metadata": {
        "colab": {
          "base_uri": "https://localhost:8080/"
        },
        "id": "5_7_CnsiwkR-",
        "outputId": "151b9ebf-4617-48cd-ecab-76bc9e7219ad"
      },
      "source": [
        "X_input = X_train[0]\n",
        "y_target = y_train[0]\n",
        "X_input = X_input.reshape((1, n_steps, n_features))\n",
        "pred = model.predict(X_input, verbose=0)[0][0]\n",
        "print(\"Prediction: \", scaler2.inverse_transform(pred.reshape(-1,1))[0][0])\n",
        "print(\"Actual: \", scaler2.inverse_transform(y_target)[0])"
      ],
      "execution_count": null,
      "outputs": [
        {
          "output_type": "stream",
          "text": [
            "Prediction:  8122.952\n",
            "Actual:  5924.001\n"
          ],
          "name": "stdout"
        }
      ]
    },
    {
      "cell_type": "code",
      "metadata": {
        "id": "VnmHpBz1wkR_"
      },
      "source": [
        "X_test = X_test.reshape((X_test.shape[0], X_test.shape[1], n_features))\n",
        "preds = model.predict(X_test, verbose=0)"
      ],
      "execution_count": null,
      "outputs": []
    },
    {
      "cell_type": "code",
      "metadata": {
        "colab": {
          "base_uri": "https://localhost:8080/"
        },
        "id": "0OuT4tfqwkR_",
        "outputId": "9213abbd-388b-40ec-ca41-44533d674ab9"
      },
      "source": [
        "print(\"MAE\", mean_absolute_error(y_test, preds))\n",
        "print(\"RMSE\", sqrt(mean_squared_error(y_test, preds)))"
      ],
      "execution_count": null,
      "outputs": [
        {
          "output_type": "stream",
          "text": [
            "MAE 0.033371393\n",
            "RMSE 0.2533794219407938\n"
          ],
          "name": "stdout"
        }
      ]
    },
    {
      "cell_type": "markdown",
      "metadata": {
        "id": "XTuMD2tt0U6M"
      },
      "source": [
        "### Add more layers and neurons"
      ]
    },
    {
      "cell_type": "code",
      "metadata": {
        "colab": {
          "base_uri": "https://localhost:8080/"
        },
        "id": "-Buol-dT0SGz",
        "outputId": "2179de86-0e05-49ec-8d47-b87e3e5c862a"
      },
      "source": [
        "# Number of time steps\n",
        "n_steps = 21\n",
        "\n",
        "# Number of features\n",
        "n_features = 1\n",
        "\n",
        "# Reshape\n",
        "X_train = X_train.reshape((X_train.shape[0], X_train.shape[1], n_features))\n",
        "\n",
        "# Model\n",
        "model = Sequential()\n",
        "model.add(LSTM(32, activation='relu', return_sequences=True, input_shape=(n_steps, n_features)))\n",
        "model.add(LSTM(64, activation='relu'))\n",
        "model.add(Dense(1))\n",
        "model.compile(optimizer='rmsprop', loss='mae')"
      ],
      "execution_count": null,
      "outputs": [
        {
          "output_type": "stream",
          "text": [
            "WARNING:tensorflow:Layer lstm_13 will not use cuDNN kernel since it doesn't meet the cuDNN kernel criteria. It will use generic GPU kernel as fallback when running on GPU\n",
            "WARNING:tensorflow:Layer lstm_14 will not use cuDNN kernel since it doesn't meet the cuDNN kernel criteria. It will use generic GPU kernel as fallback when running on GPU\n"
          ],
          "name": "stdout"
        }
      ]
    },
    {
      "cell_type": "code",
      "metadata": {
        "colab": {
          "base_uri": "https://localhost:8080/"
        },
        "id": "7fpTRuvZ0SG1",
        "outputId": "67d782f8-bf15-48ff-80bd-6ba9dc2a5d2a"
      },
      "source": [
        "# Training\n",
        "history = model.fit(X_train, y_train, epochs=10, validation_split=0.05, verbose=1)"
      ],
      "execution_count": null,
      "outputs": [
        {
          "output_type": "stream",
          "text": [
            "Epoch 1/10\n",
            "90/90 [==============================] - 6s 62ms/step - loss: 0.1049 - val_loss: 0.0205\n",
            "Epoch 2/10\n",
            "90/90 [==============================] - 5s 60ms/step - loss: 0.0418 - val_loss: 0.0299\n",
            "Epoch 3/10\n",
            "90/90 [==============================] - 6s 62ms/step - loss: 0.0347 - val_loss: 0.0261\n",
            "Epoch 4/10\n",
            "90/90 [==============================] - 6s 66ms/step - loss: 0.0304 - val_loss: 0.0198\n",
            "Epoch 5/10\n",
            "90/90 [==============================] - 6s 61ms/step - loss: 0.0293 - val_loss: 0.0299\n",
            "Epoch 6/10\n",
            "90/90 [==============================] - 6s 65ms/step - loss: 0.0262 - val_loss: 0.0101\n",
            "Epoch 7/10\n",
            "90/90 [==============================] - 6s 61ms/step - loss: 0.0245 - val_loss: 0.0127\n",
            "Epoch 8/10\n",
            "90/90 [==============================] - 5s 59ms/step - loss: 0.0245 - val_loss: 0.0187\n",
            "Epoch 9/10\n",
            "90/90 [==============================] - 5s 60ms/step - loss: 0.0222 - val_loss: 0.0132\n",
            "Epoch 10/10\n",
            "90/90 [==============================] - 6s 63ms/step - loss: 0.0205 - val_loss: 0.0233\n"
          ],
          "name": "stdout"
        }
      ]
    },
    {
      "cell_type": "code",
      "metadata": {
        "colab": {
          "base_uri": "https://localhost:8080/",
          "height": 265
        },
        "id": "pj8ci9650SG1",
        "outputId": "eef6a644-d550-4a62-9a44-efdd1a7bf842"
      },
      "source": [
        "# Plot history\n",
        "plt.plot(history.history['loss'], label='train')\n",
        "plt.plot(history.history['val_loss'], label='test')\n",
        "plt.legend()\n",
        "plt.show()"
      ],
      "execution_count": null,
      "outputs": [
        {
          "output_type": "display_data",
          "data": {
            "image/png": "[encoded data removed]",
            "text/plain": [
              "<Figure size 432x288 with 1 Axes>"
            ]
          },
          "metadata": {
            "tags": [],
            "needs_background": "light"
          }
        }
      ]
    },
    {
      "cell_type": "code",
      "metadata": {
        "colab": {
          "base_uri": "https://localhost:8080/"
        },
        "id": "2nxb20gX0SG2",
        "outputId": "389101a9-19b3-4189-a791-9476b1e6b7cc"
      },
      "source": [
        "X_input = X_train[0]\n",
        "y_target = y_train[0]\n",
        "X_input = X_input.reshape((1, n_steps, n_features))\n",
        "pred = model.predict(X_input, verbose=0)[0][0]\n",
        "print(\"Prediction: \", scaler2.inverse_transform(pred.reshape(-1,1))[0][0])\n",
        "print(\"Actual: \", scaler2.inverse_transform(y_target)[0])"
      ],
      "execution_count": null,
      "outputs": [
        {
          "output_type": "stream",
          "text": [
            "Prediction:  4615.411\n",
            "Actual:  5924.001\n"
          ],
          "name": "stdout"
        }
      ]
    },
    {
      "cell_type": "code",
      "metadata": {
        "id": "nrveP78n0SG3"
      },
      "source": [
        "X_test = X_test.reshape((X_test.shape[0], X_test.shape[1], n_features))\n",
        "preds = model.predict(X_test, verbose=0)"
      ],
      "execution_count": null,
      "outputs": []
    },
    {
      "cell_type": "code",
      "metadata": {
        "colab": {
          "base_uri": "https://localhost:8080/"
        },
        "id": "en3incnj0SG3",
        "outputId": "2530957d-c13d-435f-d913-29b8dff34f02"
      },
      "source": [
        "print(\"MAE\", mean_absolute_error(y_test, preds))\n",
        "print(\"RMSE\", sqrt(mean_squared_error(y_test, preds)))"
      ],
      "execution_count": null,
      "outputs": [
        {
          "output_type": "stream",
          "text": [
            "MAE 0.038398\n",
            "RMSE 0.3578178213798255\n"
          ],
          "name": "stdout"
        }
      ]
    },
    {
      "cell_type": "markdown",
      "metadata": {
        "id": "2Zv3Ijo0xbtq"
      },
      "source": [
        "### Bidirectional LSTM model"
      ]
    },
    {
      "cell_type": "code",
      "metadata": {
        "colab": {
          "base_uri": "https://localhost:8080/"
        },
        "id": "Ir7LpGHUxbts",
        "outputId": "476bce7c-2180-4d1f-bcea-5d64abe02ff4"
      },
      "source": [
        "# Number of time steps\n",
        "n_steps = 21\n",
        "\n",
        "# Number of features\n",
        "n_features = 1\n",
        "\n",
        "# Reshape\n",
        "X_train = X_train.reshape((X_train.shape[0], X_train.shape[1], n_features))\n",
        "\n",
        "# Model\n",
        "model = Sequential()\n",
        "model.add(Bidirectional(LSTM(32, activation='relu'), input_shape=(n_steps, n_features)))\n",
        "model.add(Dense(1))\n",
        "model.compile(optimizer='rmsprop', loss='mae')"
      ],
      "execution_count": null,
      "outputs": [
        {
          "output_type": "stream",
          "text": [
            "WARNING:tensorflow:Layer lstm_12 will not use cuDNN kernel since it doesn't meet the cuDNN kernel criteria. It will use generic GPU kernel as fallback when running on GPU\n",
            "WARNING:tensorflow:Layer lstm_12 will not use cuDNN kernel since it doesn't meet the cuDNN kernel criteria. It will use generic GPU kernel as fallback when running on GPU\n",
            "WARNING:tensorflow:Layer lstm_12 will not use cuDNN kernel since it doesn't meet the cuDNN kernel criteria. It will use generic GPU kernel as fallback when running on GPU\n"
          ],
          "name": "stdout"
        }
      ]
    },
    {
      "cell_type": "code",
      "metadata": {
        "colab": {
          "base_uri": "https://localhost:8080/",
          "height": 605
        },
        "id": "O8tGkj66Bc3J",
        "outputId": "26a11407-07b1-4359-9958-14a60c0c13fd"
      },
      "source": [
        "# Training\n",
        "history = model.fit(X_train, y_train, epochs=10, validation_split=0.10, verbose=1)\n",
        "# plot history\n",
        "plt.plot(history.history['loss'], label='train')\n",
        "plt.plot(history.history['val_loss'], label='test')\n",
        "plt.legend()\n",
        "plt.show()"
      ],
      "execution_count": null,
      "outputs": [
        {
          "output_type": "stream",
          "text": [
            "Epoch 1/10\n",
            "85/85 [==============================] - 5s 64ms/step - loss: 0.0958 - val_loss: 0.0458\n",
            "Epoch 2/10\n",
            "85/85 [==============================] - 6s 67ms/step - loss: 0.0388 - val_loss: 0.0309\n",
            "Epoch 3/10\n",
            "85/85 [==============================] - 5s 59ms/step - loss: 0.0320 - val_loss: 0.0393\n",
            "Epoch 4/10\n",
            "85/85 [==============================] - 5s 62ms/step - loss: 0.0294 - val_loss: 0.0278\n",
            "Epoch 5/10\n",
            "85/85 [==============================] - 5s 62ms/step - loss: 0.0267 - val_loss: 0.0238\n",
            "Epoch 6/10\n",
            "85/85 [==============================] - 5s 61ms/step - loss: 0.0257 - val_loss: 0.0238\n",
            "Epoch 7/10\n",
            "85/85 [==============================] - 5s 59ms/step - loss: 0.0227 - val_loss: 0.0303\n",
            "Epoch 8/10\n",
            "85/85 [==============================] - 5s 63ms/step - loss: 0.0224 - val_loss: 0.0239\n",
            "Epoch 9/10\n",
            "85/85 [==============================] - 5s 64ms/step - loss: 0.0218 - val_loss: 0.0301\n",
            "Epoch 10/10\n",
            "85/85 [==============================] - 5s 64ms/step - loss: 0.0207 - val_loss: 0.0211\n"
          ],
          "name": "stdout"
        },
        {
          "output_type": "display_data",
          "data": {
            "image/png": "[encoded data removed]",
            "text/plain": [
              "<Figure size 432x288 with 1 Axes>"
            ]
          },
          "metadata": {
            "tags": [],
            "needs_background": "light"
          }
        }
      ]
    },
    {
      "cell_type": "code",
      "metadata": {
        "colab": {
          "base_uri": "https://localhost:8080/"
        },
        "id": "FKKiiafDxbtu",
        "outputId": "a4cd09f6-7b8d-4d43-e537-c11d4ce73e07"
      },
      "source": [
        "X_input = X_train[0]\n",
        "y_target = y_train[0]\n",
        "X_input = X_input.reshape((1, n_steps, n_features))\n",
        "pred = model.predict(X_input, verbose=0)[0][0]\n",
        "print(\"Prediction: \", scaler2.inverse_transform(pred.reshape(-1,1))[0][0])\n",
        "print(\"Actual: \", scaler2.inverse_transform(y_target)[0])"
      ],
      "execution_count": null,
      "outputs": [
        {
          "output_type": "stream",
          "text": [
            "Prediction:  3835.8096\n",
            "Actual:  5924.001\n"
          ],
          "name": "stdout"
        }
      ]
    },
    {
      "cell_type": "code",
      "metadata": {
        "id": "uy5BlOkExbtv"
      },
      "source": [
        "X_test = X_test.reshape((X_test.shape[0], X_test.shape[1], n_features))\n",
        "preds = model.predict(X_test, verbose=0)"
      ],
      "execution_count": null,
      "outputs": []
    },
    {
      "cell_type": "code",
      "metadata": {
        "colab": {
          "base_uri": "https://localhost:8080/"
        },
        "id": "lhPitKlQxbtv",
        "outputId": "efcbb6cd-7399-49ba-da02-f5a2d9e5104e"
      },
      "source": [
        "print(\"MAE\", mean_absolute_error(y_test, preds))\n",
        "print(\"RMSE\", sqrt(mean_squared_error(y_test, preds)))"
      ],
      "execution_count": null,
      "outputs": [
        {
          "output_type": "stream",
          "text": [
            "MAE 0.08746777\n",
            "RMSE 1.975826624013299\n"
          ],
          "name": "stdout"
        }
      ]
    }
  ]
}